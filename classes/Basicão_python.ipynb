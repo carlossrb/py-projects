{
 "cells": [
  {
   "cell_type": "markdown",
   "metadata": {},
   "source": [
    "## Principais Comandos de atalho no jupyter \n",
    "\n",
    "Dentro do Módulo de comando: Quando o cursor não esta ativo nas células \n",
    "( a lateral fica com cor azul e esse módulo é acessado usando ao tecla esc quando o cursor está ativo)\n",
    "\n",
    "* dd - deletar a célula\n",
    "* a - cria célula acima\n",
    "* b - cria célula abaixo\n",
    "* m - altera para módulo de texto\n",
    "* y - altera para módulo de código\n",
    "\n",
    "\n",
    "Fora do Módulo de comando (cursor ativo na célula e cor verde na lateral)\n",
    "* shift + enter - executa a célula atual e seleciona a de baixo (se não tiver nenhuam abaixo é criada uma nova)\n",
    "* alt + enter - executa a célula atual e adiciona uma célula abaixo\n",
    "* tab - indica possível variáveis no qual eu criei para preencher altomaticamente\n",
    "* tab após ponto o nome de uma variável mais um ponto(.) vai lista métodos associados a aquele elemento\n",
    "* shift+tab indica os argumento de uma função (MUITO IMPORTANTE)\n",
    "\n",
    "Um pouco sobre a linguaguem Markdown\n",
    "\n",
    "Básico e direto:\n",
    "https://docs.pipz.com/central-de-ajuda/learning-center/guia-basico-de-markdown#open \n",
    "\n",
    "Intermediário com comandos em latex:\n",
    "https://ichi.pro/pt/aprenda-a-escrever-markdown-e-latex-no-notebook-jupyter-18246612521469  \n",
    "\n"
   ]
  },
  {
   "cell_type": "markdown",
   "metadata": {
    "id": "_AzIxDXprJOp"
   },
   "source": [
    "# **Meu Primeiro Comando** + Operações matemáticas básicas"
   ]
  },
  {
   "cell_type": "code",
   "execution_count": 26,
   "metadata": {},
   "outputs": [
    {
     "name": "stdout",
     "output_type": "stream",
     "text": [
      "olá mundo\n"
     ]
    },
    {
     "data": {
      "text/plain": [
       "['olá', 'mundo']"
      ]
     },
     "execution_count": 26,
     "metadata": {},
     "output_type": "execute_result"
    }
   ],
   "source": [
    "x=\"olá mundo\"  # tudo do lado direito da hastag é comentário\n",
    "print(x) \n",
    "x. # use tab aqui e encontre uma função para tornar as letras maísculas\n",
    "x. # agora que retorne as palavras separadas"
   ]
  },
  {
   "cell_type": "code",
   "execution_count": 31,
   "metadata": {
    "colab": {
     "base_uri": "https://localhost:8080/"
    },
    "id": "-TXH8GoqrAVm",
    "outputId": "4849aa48-ad97-4ecf-c414-069786f03434"
   },
   "outputs": [
    {
     "name": "stdout",
     "output_type": "stream",
     "text": [
      "10\n",
      "4\n",
      "21\n",
      "2.3333333333333335\n",
      "2\n",
      "1\n",
      "7\n"
     ]
    },
    {
     "data": {
      "text/plain": [
       "0.43"
      ]
     },
     "execution_count": 31,
     "metadata": {},
     "output_type": "execute_result"
    }
   ],
   "source": [
    "\n",
    "x1=7 # atribuindo valores sinal de igual\n",
    "x2=3\n",
    "print(x1+x2) \n",
    "print(x1-x2) # subtração\n",
    "print(x1*x2) # multiplicação\n",
    "print(x1/x2) # divisão\n",
    "print(x1//x2) # quoeficiente da divisão\n",
    "print(x1%x2) # resto da divisão\n",
    "print(abs(-x1)) # módulo de um número\n",
    "round(x2/x1,2) # arredondando para duas casas decimais\n",
    "\n"
   ]
  },
  {
   "cell_type": "markdown",
   "metadata": {},
   "source": [
    "### Usando comandos latex para fórmulas\n",
    "Calculando $X^2$ e $\\sqrt[3]{4^2}=4^{2/3}$"
   ]
  },
  {
   "cell_type": "code",
   "execution_count": 27,
   "metadata": {},
   "outputs": [
    {
     "name": "stdout",
     "output_type": "stream",
     "text": [
      "27\n"
     ]
    },
    {
     "data": {
      "text/plain": [
       "2.5198420997897464"
      ]
     },
     "execution_count": 27,
     "metadata": {},
     "output_type": "execute_result"
    }
   ],
   "source": [
    "print(x2**3) # x2 elevado a 3\n",
    "4**(2/3)  # raiz de quadrada de 4 elevado ao 3\n",
    "# arredondar para três casas decimais"
   ]
  },
  {
   "cell_type": "markdown",
   "metadata": {},
   "source": [
    "#ME DELETEEEEEEEEEEEEEEEEE"
   ]
  },
  {
   "cell_type": "markdown",
   "metadata": {},
   "source": [
    "## Outras funções matemáticas com math"
   ]
  },
  {
   "cell_type": "code",
   "execution_count": 29,
   "metadata": {},
   "outputs": [
    {
     "data": {
      "text/plain": [
       "7"
      ]
     },
     "execution_count": 29,
     "metadata": {},
     "output_type": "execute_result"
    }
   ],
   "source": [
    "import math\n",
    "## pradrão básico usa-se a palavra math mais sua função\n",
    "n = 15 \n",
    "math.cos(n)  # cosseno\n",
    "math.sin(n)  # seno\n",
    "math.exp(n)  # exponencial\n",
    "math.log(n)  # logaritmo natural\n",
    "math.sqrt(n) # raiz quadrada\n",
    "math.factorial(n) # fatorial  \n",
    "math.trunc(n/2) # Inteiro da fração (neste 15/2=7.5, retorna 7)\n"
   ]
  },
  {
   "cell_type": "markdown",
   "metadata": {
    "id": "GpXdfsjiHZc0"
   },
   "source": [
    "### Atualizando valores por operadores de atribuição"
   ]
  },
  {
   "cell_type": "code",
   "execution_count": null,
   "metadata": {
    "colab": {
     "base_uri": "https://localhost:8080/"
    },
    "id": "qMGTbGDsHkRD",
    "outputId": "85fca2a5-ed79-49b8-e0b7-d1746be967ec"
   },
   "outputs": [],
   "source": [
    "a=4\n",
    "a+=2 # forma reduzida da soma a=a+2 \n",
    "print(a)\n",
    "a-= 2 # forma reduzida de a=a-2\n",
    "print(a)\n",
    "a/=2  # forma reduzida de a=a/2\n",
    "print(a)\n",
    "a*=4  # forma reduzida de a=a*2\n",
    "print(a)\n",
    "a**=2  # forma reduzida de a= a elevado a 2\n",
    "print(a)\n",
    "a%=4  # forma reduzida de a=resto da divisão de a por 4\n",
    "print(a)"
   ]
  },
  {
   "cell_type": "markdown",
   "metadata": {
    "id": "eLJesxeVu_jf"
   },
   "source": [
    "### Tipos de dados mais comuns"
   ]
  },
  {
   "cell_type": "code",
   "execution_count": null,
   "metadata": {
    "colab": {
     "base_uri": "https://localhost:8080/"
    },
    "id": "tCa7aPkYu-kq",
    "outputId": "6e96435c-c13a-4869-d897-3bae5a56e5df"
   },
   "outputs": [
    {
     "name": "stdout",
     "output_type": "stream",
     "text": [
      "<class 'int'>\n",
      "<class 'float'>\n",
      "<class 'str'>\n",
      "<class 'list'>\n",
      "<class 'complex'>\n",
      "<class 'bool'> <class 'bool'>\n",
      "<class 'list'>\n",
      "<class 'dict'>\n",
      "João Filho\n"
     ]
    },
    {
     "data": {
      "text/plain": [
       "tuple"
      ]
     },
     "execution_count": 10,
     "metadata": {
      "tags": []
     },
     "output_type": "execute_result"
    }
   ],
   "source": [
    "A=2 # Inteiro (int)\n",
    "print(type(A)) # type retorna o tipo\n",
    "B=2.2 # ponto flutuante (float) associado a números fracionados\n",
    "print(type(B))\n",
    "C=\"olá\" # String (str) associado a texto\n",
    "print(type(C))\n",
    "D=[2,3.3,\"4\"] # lista\n",
    "print(type(D))  \n",
    "E = 1j # Números Complexos\n",
    "print(type(E))\n",
    "# Booleanos (Verdadeiro ou falso)\n",
    "F=False\n",
    "G=True\n",
    "print(type(F),type(G))\n",
    "H=[2,5,7,9] # outra lista que no R seria um vetor\n",
    "print(type(H)) \n",
    "I = {'nome': 'João Filho', 'idade': 23, 'cursos': ['R', 'python']} # Dicionário\n",
    "print(type(I))\n",
    "print(I['nome']) # acessando nome em I\n",
    "I['cursos'] # acessando a lista cursos\n",
    "tup=(2,4,3) # tupla\n",
    "type(tup)"
   ]
  },
  {
   "cell_type": "markdown",
   "metadata": {
    "id": "YwkOsTRta8Rn"
   },
   "source": [
    "### Operadores lógicos"
   ]
  },
  {
   "cell_type": "code",
   "execution_count": null,
   "metadata": {
    "colab": {
     "base_uri": "https://localhost:8080/"
    },
    "id": "n8wCUdF7a81Z",
    "outputId": "082c1807-a1dc-438e-9daa-2f24efd38721"
   },
   "outputs": [
    {
     "data": {
      "text/plain": [
       "False"
      ]
     },
     "execution_count": 11,
     "metadata": {
      "tags": []
     },
     "output_type": "execute_result"
    }
   ],
   "source": [
    "# São essenciais para se criar funções e manipular dados\n",
    "A=3\n",
    "B=2\n",
    "C=2\n",
    "A==B # Verificando se A é igual a B\n",
    "A!=B # Verificando se A é diferente B\n",
    "A>B # verificando se A é maior que B\n",
    "A>=B # verificando se A é maior ou igual a B\n",
    "A<B # verificando se A é menor que B\n",
    "A<=B # verificando se A é menor ou igual a B\n",
    "## Para múltiplas verificações usando operadores or e and \n",
    "# usando operador or...  se somente uma sentença for verdade tudo será verdadeiro\n",
    "A==B or B==C or A==C\n",
    "# usando operador and.. se somente uma sentença for falso tudo será falso\n",
    "A==B and B==C and A!=C\n",
    "\n",
    "not 0 # operando onde for 0 é verdadeiro qualquer outro valor é falso\n",
    "not 3\n",
    "\n"
   ]
  },
  {
   "cell_type": "markdown",
   "metadata": {
    "id": "3JuV0jBV1hjG"
   },
   "source": [
    "### Operador lógicos membro e unidade"
   ]
  },
  {
   "cell_type": "code",
   "execution_count": 30,
   "metadata": {
    "colab": {
     "base_uri": "https://localhost:8080/"
    },
    "id": "RS62JFy51l8Q",
    "outputId": "40acf50e-b6ba-47ab-ef18-bbb88bd072e5"
   },
   "outputs": [
    {
     "data": {
      "text/plain": [
       "3.3"
      ]
     },
     "execution_count": 30,
     "metadata": {},
     "output_type": "execute_result"
    }
   ],
   "source": [
    "l1=['A','B',1,-5,9]\n",
    "'A' in l1 # 'A' é membro de l1?\n",
    "'A' not in l1 # 'A' não é membro de l1?\n",
    "\n",
    "x=2;y=x;z=2\n",
    "\n",
    "x is y # x é igual a y?\n",
    "x is z\n",
    "x is not y # obs (invertemos is e not ) naturalidade da lingua inglesa\n",
    "### usando \"is\" em lista. Neste caso ter o mesmo conteúdo não significa que são iguais\n",
    "x1=[1,2,3]; x2=x1; x3=[1,2,3]\n",
    "x1 is x2\n",
    "x1 is x3 # note que é falso devido a diferentes locação da memória\n",
    "\n",
    "\n",
    "\n"
   ]
  },
  {
   "cell_type": "markdown",
   "metadata": {
    "id": "Rs19WygM9cHt"
   },
   "source": [
    "### Conversão de tipos"
   ]
  },
  {
   "cell_type": "code",
   "execution_count": null,
   "metadata": {
    "colab": {
     "base_uri": "https://localhost:8080/"
    },
    "id": "Yd3AKsJP9fXZ",
    "outputId": "79653287-b082-49d0-cc19-29721ee48a3b"
   },
   "outputs": [
    {
     "name": "stdout",
     "output_type": "stream",
     "text": [
      "5\n",
      "23\n",
      "4.2\n"
     ]
    }
   ],
   "source": [
    "a=2 \n",
    "b='3'\n",
    "print(a+int(b))\n",
    "print(str(a)+b)\n",
    "print(a+float('2.2'))"
   ]
  },
  {
   "cell_type": "markdown",
   "metadata": {
    "id": "MjhzbCTEmjBa"
   },
   "source": [
    "### Manipulando Strings "
   ]
  },
  {
   "cell_type": "code",
   "execution_count": null,
   "metadata": {
    "colab": {
     "base_uri": "https://localhost:8080/"
    },
    "id": "_9XbWS5LmmKi",
    "outputId": "e975f622-ce78-4b24-d9f6-fef8c1c23542"
   },
   "outputs": [
    {
     "name": "stdout",
     "output_type": "stream",
     "text": [
      "  bom dia \n",
      "... meu amigo \n",
      "bom dia \n",
      " ... meu amigo\n"
     ]
    },
    {
     "data": {
      "text/plain": [
       "['O', 'Python', 'é', 'uma', 'linguaguem', 'top']"
      ]
     },
     "execution_count": 25,
     "metadata": {
      "tags": []
     },
     "output_type": "execute_result"
    }
   ],
   "source": [
    "nome= 'Pedro Antônio'\n",
    "nome[0]\n",
    "# nome[0]=2 # Obs não se muda string\n",
    "# uso de aspas simples ou duplas alternar para usar no texto\n",
    "A=\"Maria D'aguia\"\n",
    "B='Ela disse: \"oi\"'\n",
    "# Multiplas linhas tres aspas simples ou duplas no começo e no fim\n",
    "oi=\"\"\"  bom dia \n",
    "... meu amigo \"\"\"\n",
    "print(oi)\n",
    "# alternativamente\n",
    "print(\"bom dia \\n ... meu amigo\") \n",
    "\n",
    "### Acesando elementos de uma string\n",
    "nome= 'André Luiz'\n",
    "nome[2] # terceiro elemento da esquerda para direita começando do zero\n",
    "nome[-2] # terceira da esquerda para direita começando de -1\n",
    "nome[6:] # do 6 em diante (neste caso segundo nome)\n",
    "nome[:5] # abaixo do quinto (sem o incluir)\n",
    "# intervalos com ::\n",
    "numero='0123456789'\n",
    "numero[::2] # de dois em dois iniciando em zero\n",
    "numero[1::2] # de dois em dois iniciando em 1\n",
    "numero[::-1] # de dois em dois iniciando em 1\n",
    "nome[::-1]\n",
    "### Outros comandos\n",
    "frase = 'O Python é uma linguaguem top'\n",
    "len(frase) # numero de caracteres\n",
    "'ing' in frase # ing é encontrado em frase?\n",
    "frase.lower() \n",
    "frase.upper()\n",
    "frase.split() # quebrar em palavras pelo espaço mas pode-se quebrar por letra ou caractere"
   ]
  },
  {
   "cell_type": "markdown",
   "metadata": {
    "id": "sx4bq0zbxc-W"
   },
   "source": [
    "### Manipulando listas"
   ]
  },
  {
   "cell_type": "code",
   "execution_count": null,
   "metadata": {
    "colab": {
     "base_uri": "https://localhost:8080/"
    },
    "id": "AQGmMS3pxeq4",
    "outputId": "504bc51f-e931-49d9-a8ac-4e42c6b001e4"
   },
   "outputs": [
    {
     "name": "stdout",
     "output_type": "stream",
     "text": [
      "['1', '2', '3', '5', 9]\n",
      "['1', '2', '3', '5']\n",
      "['2', '3', '5', '1']\n",
      "['1', '5', '3', '2']\n",
      "['1', '5', '2']\n"
     ]
    }
   ],
   "source": [
    "dir(list) # mostrando funções associadas \n",
    "A=['1','2','3']\n",
    "len(A) # Tamanho da lista\n",
    "A.append('5') # adicionando o caractere 5\n",
    "A.append(9) # adicionanco o numero 9\n",
    "print(A)\n",
    "A.remove(9)\n",
    "print(A)\n",
    "A.append('1') # adicionando outro '1'\n",
    "A.remove('1') # remove o primeiro\n",
    "print(A)\n",
    "A.reverse() # reverte ordem de A\n",
    "print(A)\n",
    "A.index('5') # indice do elemento 5\n",
    "'2' in A # 2 está em A?\n",
    "A[2:] # indice semlhante a string de 2 a diante\n",
    "A[2:-1] # da posiçao dois em diante (ultimo é -1)\n",
    "del A[2] # removendo um elemento do indice 2\n",
    "print(A)\n",
    "\n"
   ]
  },
  {
   "cell_type": "markdown",
   "metadata": {
    "id": "kpAmB5OxQqh0"
   },
   "source": [
    "### Entrando com dados com input"
   ]
  },
  {
   "cell_type": "code",
   "execution_count": 32,
   "metadata": {
    "colab": {
     "base_uri": "https://localhost:8080/"
    },
    "id": "I0qoUuQ9QrJQ",
    "outputId": "ea812287-72b9-4a66-cd5d-8355dc4c1c70"
   },
   "outputs": [
    {
     "name": "stdout",
     "output_type": "stream",
     "text": [
      "Informe o raio:  10\n",
      "Área do círculo 314.1592653589793\n"
     ]
    }
   ],
   "source": [
    "from math import pi # importanto a função pi do pacote math\n",
    "raio= input('Informe o raio:  ' ) # raio será uma string\n",
    "print ('Área do círculo',pi*float(raio)**2) "
   ]
  },
  {
   "cell_type": "code",
   "execution_count": null,
   "metadata": {},
   "outputs": [],
   "source": []
  }
 ],
 "metadata": {
  "colab": {
   "collapsed_sections": [],
   "name": "Primeiros_passos.ipynb",
   "provenance": []
  },
  "kernelspec": {
   "display_name": "Python 3",
   "language": "python",
   "name": "python3"
  },
  "language_info": {
   "codemirror_mode": {
    "name": "ipython",
    "version": 3
   },
   "file_extension": ".py",
   "mimetype": "text/x-python",
   "name": "python",
   "nbconvert_exporter": "python",
   "pygments_lexer": "ipython3",
   "version": "3.8.5"
  }
 },
 "nbformat": 4,
 "nbformat_minor": 1
}
