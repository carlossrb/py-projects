{
 "cells": [
  {
   "cell_type": "markdown",
   "metadata": {},
   "source": [
    "## Principais Comandos de atalho no jupyter \n",
    "\n",
    "Dentro do Módulo de comando: Quando o cursor não esta ativo nas células \n",
    "( a lateral fica com cor azul e esse módulo é acessado usando ao tecla esc quando o cursor está ativo)\n",
    "\n",
    "* dd - deletar a célula\n",
    "* a - cria célula acima\n",
    "* b - cria célula abaixo\n",
    "* m - altera para módulo de texto\n",
    "* y - altera para módulo de código\n",
    "\n",
    "\n",
    "Fora do Módulo de comando (cursor ativo na célula e cor verde na lateral)\n",
    "* shift + enter - executa a célula atual e seleciona a de baixo (se não tiver nenhuam abaixo é criada uma nova)\n",
    "* alt + enter - executa a célula atual e adiciona uma célula abaixo\n",
    "* tab - indica possível variáveis no qual eu criei para preencher altomaticamente\n",
    "* tab após ponto o nome de uma variável mais um ponto(.) vai lista métodos associados a aquele elemento\n",
    "* shift+tab indica os argumento de uma função (MUITO IMPORTANTE)\n",
    "\n",
    "Um pouco sobre a linguaguem Markdown\n",
    "\n",
    "Básico e direto:\n",
    "https://docs.pipz.com/central-de-ajuda/learning-center/guia-basico-de-markdown#open \n",
    "\n",
    "Intermediário com comandos em latex:\n",
    "https://ichi.pro/pt/aprenda-a-escrever-markdown-e-latex-no-notebook-jupyter-18246612521469  \n",
    "\n"
   ]
  },
  {
   "cell_type": "markdown",
   "metadata": {
    "id": "_AzIxDXprJOp"
   },
   "source": [
    "# **Meu Primeiro Comando** + Operações matemáticas básicas"
   ]
  },
  {
   "cell_type": "code",
   "execution_count": 8,
   "metadata": {},
   "outputs": [
    {
     "name": "stdout",
     "output_type": "stream",
     "text": [
      "olá mundo\n",
      "<class 'str'>\n"
     ]
    }
   ],
   "source": [
    "x=\"olá mundo\"  # tudo do lado direito da hastag é comentário\n",
    "print(x) \n",
    "print(type(x))\n"
   ]
  },
  {
   "cell_type": "markdown",
   "metadata": {},
   "source": [
    "### Linguagem orientada a objeto com atributos e métodos de classe"
   ]
  },
  {
   "cell_type": "code",
   "execution_count": 11,
   "metadata": {},
   "outputs": [
    {
     "name": "stdout",
     "output_type": "stream",
     "text": [
      "OLÁ MUNDO\n",
      "OLÁ MUNDO\n"
     ]
    }
   ],
   "source": [
    "## use str. e x. com tab para encontrar um método para tornar as letras maísculas\n",
    "str.\n",
    "x.\n"
   ]
  },
  {
   "cell_type": "markdown",
   "metadata": {},
   "source": [
    "### Fazendo contas básicas com atribuição"
   ]
  },
  {
   "cell_type": "code",
   "execution_count": 7,
   "metadata": {
    "colab": {
     "base_uri": "https://localhost:8080/"
    },
    "id": "-TXH8GoqrAVm",
    "outputId": "4849aa48-ad97-4ecf-c414-069786f03434"
   },
   "outputs": [
    {
     "name": "stdout",
     "output_type": "stream",
     "text": [
      "10\n",
      "4\n",
      "21\n",
      "2.3333333333333335\n",
      "2\n",
      "1\n",
      "7\n"
     ]
    },
    {
     "data": {
      "text/plain": [
       "0.43"
      ]
     },
     "execution_count": 7,
     "metadata": {},
     "output_type": "execute_result"
    }
   ],
   "source": [
    "\n",
    "x1=7 # atribuindo valores sinal de igual\n",
    "x2=3\n",
    "print(x1+x2) \n",
    "print(x1-x2) # subtração\n",
    "print(x1*x2) # multiplicação\n",
    "print(x1/x2) # divisão\n",
    "print(x1//x2) # quoeficiente da divisão\n",
    "print(x1%x2) # resto da divisão\n",
    "print(abs(-x1)) # módulo de um número\n",
    "round(x2/x1,2) # arredondando para duas casas decimais\n",
    "\n"
   ]
  },
  {
   "cell_type": "markdown",
   "metadata": {},
   "source": [
    "### Usando comandos latex para fórmulas\n",
    "Calculando $X^2$ e $\\sqrt[3]{4^2}=4^{2/3}$"
   ]
  },
  {
   "cell_type": "code",
   "execution_count": 27,
   "metadata": {},
   "outputs": [
    {
     "name": "stdout",
     "output_type": "stream",
     "text": [
      "27\n"
     ]
    },
    {
     "data": {
      "text/plain": [
       "2.5198420997897464"
      ]
     },
     "execution_count": 27,
     "metadata": {},
     "output_type": "execute_result"
    }
   ],
   "source": [
    "print(x2**3) # x2 elevado a 3 \n",
    "4**(2/3)  # raiz de quadrada de 4 elevado ao 3\n",
    "# arredondar para três casas decimais"
   ]
  },
  {
   "cell_type": "markdown",
   "metadata": {},
   "source": [
    "## Outras funções matemáticas com math"
   ]
  },
  {
   "cell_type": "code",
   "execution_count": 8,
   "metadata": {},
   "outputs": [],
   "source": [
    "import math"
   ]
  },
  {
   "cell_type": "code",
   "execution_count": 9,
   "metadata": {},
   "outputs": [
    {
     "data": {
      "text/plain": [
       "7"
      ]
     },
     "execution_count": 9,
     "metadata": {},
     "output_type": "execute_result"
    }
   ],
   "source": [
    "\n",
    "## pradrão básico usa-se a palavra math mais sua função\n",
    "n = 15 \n",
    "math.cos(n)  # cosseno\n",
    "math.sin(n)  # seno\n",
    "math.exp(n)  # exponencial\n",
    "math.log(n)  # logaritmo natural\n",
    "math.sqrt(n) # raiz quadrada\n",
    "math.factorial(n) # fatorial  \n",
    "math.trunc(n/2) # Inteiro da fração (neste 15/2=7.5, retorna 7)\n"
   ]
  },
  {
   "cell_type": "markdown",
   "metadata": {
    "id": "eLJesxeVu_jf"
   },
   "source": [
    "### Tipos de classes mais comuns"
   ]
  },
  {
   "cell_type": "code",
   "execution_count": null,
   "metadata": {
    "colab": {
     "base_uri": "https://localhost:8080/"
    },
    "id": "tCa7aPkYu-kq",
    "outputId": "6e96435c-c13a-4869-d897-3bae5a56e5df"
   },
   "outputs": [
    {
     "name": "stdout",
     "output_type": "stream",
     "text": [
      "<class 'int'>\n",
      "<class 'float'>\n",
      "<class 'str'>\n",
      "<class 'list'>\n",
      "<class 'complex'>\n",
      "<class 'bool'> <class 'bool'>\n",
      "<class 'list'>\n",
      "<class 'dict'>\n",
      "João Filho\n"
     ]
    },
    {
     "data": {
      "text/plain": [
       "tuple"
      ]
     },
     "execution_count": 10,
     "metadata": {
      "tags": []
     },
     "output_type": "execute_result"
    }
   ],
   "source": [
    "\n",
    "### Inteiro int\n",
    "A=2 \n",
    "print(type(A)) # type retorna o tipo\n",
    "\n",
    "### Reais float\n",
    "B=2.2 \n",
    "print(type(B))\n",
    "\n",
    "### String\n",
    "C=\"olá\" \n",
    "print(type(C))\n",
    "\n",
    "\n",
    "### Booleanos (Verdadeiro ou falso)\n",
    "F=False # Falso\n",
    "G=True  # Verdadeiro\n",
    "print(type(F),type(G))\n",
    "\n",
    "### Lista - possibilita múltiplas classes de elementos (inteiro, real, texto)\n",
    "D=[2,3.3,\"4\"] \n",
    "print(type(D))\n",
    "\n",
    "\n",
    "### Tupla - são elementos imutáveis (após criá-los não alteramos seus valores)\n",
    "tup=(2,4,3) # tupla\n",
    "type(tup)\n",
    "\n",
    "### Dicionário\n",
    "\n",
    "I = {'nome': 'João Filho', 'idade': 23, 'cursos': ['R', 'python']} # Dicionário\n",
    "print(type(I))\n",
    "print(I['nome']) # acessando nome em I\n",
    "I['cursos'] # acessando a lista cursos\n",
    "\n",
    "\n"
   ]
  },
  {
   "cell_type": "markdown",
   "metadata": {
    "id": "YwkOsTRta8Rn"
   },
   "source": [
    "### Operadores lógicos\n",
    "\n",
    "Usados em condições e filtros."
   ]
  },
  {
   "cell_type": "code",
   "execution_count": 8,
   "metadata": {
    "colab": {
     "base_uri": "https://localhost:8080/"
    },
    "id": "n8wCUdF7a81Z",
    "outputId": "082c1807-a1dc-438e-9daa-2f24efd38721"
   },
   "outputs": [
    {
     "data": {
      "text/plain": [
       "False"
      ]
     },
     "execution_count": 8,
     "metadata": {},
     "output_type": "execute_result"
    }
   ],
   "source": [
    "# São essenciais para se criar funções e manipular dados\n",
    "A=3\n",
    "B=2\n",
    "C=2\n",
    "A==B # Verificando se A é igual a B\n",
    "A!=B # Verificando se A é diferente B\n",
    "A>B # verificando se A é maior que B\n",
    "A>=B # verificando se A é maior ou igual a B\n",
    "A<B # verificando se A é menor que B\n",
    "A<=B # verificando se A é menor ou igual a B\n",
    "\n",
    "\n"
   ]
  },
  {
   "cell_type": "markdown",
   "metadata": {},
   "source": [
    "### Booleanos and, or, not\n",
    "\n",
    "Também muito usados em condições e filtro. "
   ]
  },
  {
   "cell_type": "code",
   "execution_count": 14,
   "metadata": {},
   "outputs": [
    {
     "name": "stdout",
     "output_type": "stream",
     "text": [
      "True\n",
      "False\n",
      "True\n",
      "False\n"
     ]
    }
   ],
   "source": [
    "### Operadores booleanos Ou (or) E (and) Não (not)\n",
    "\n",
    "#### Usando operadores, tabela verdade para multiplas respostas\n",
    "\n",
    "# usando operador or...  se somente uma sentença for Verdade tudo será Verdadeiro\n",
    "print(A==B or B==C or A==C)\n",
    "# usando operador and.. se somente uma sentença for Falso tudo será Falso\n",
    "print(A==B and B==C and A!=C)\n",
    "\n",
    "print(not A==B) # Como A não é igual a B é retornado: Verdadeiro\n",
    "print(not B==C) # Como B é igual a C é retornado: Falso\n"
   ]
  },
  {
   "cell_type": "markdown",
   "metadata": {
    "id": "Rs19WygM9cHt"
   },
   "source": [
    "### Conversão de tipos\n",
    "ver mais em [python.org](https://docs.python.org/3/library/stdtypes.html) "
   ]
  },
  {
   "cell_type": "code",
   "execution_count": 16,
   "metadata": {
    "colab": {
     "base_uri": "https://localhost:8080/"
    },
    "id": "Yd3AKsJP9fXZ",
    "outputId": "79653287-b082-49d0-cc19-29721ee48a3b"
   },
   "outputs": [
    {
     "name": "stdout",
     "output_type": "stream",
     "text": [
      "5\n",
      "23\n",
      "4.2\n"
     ]
    }
   ],
   "source": [
    "a=2 \n",
    "b='3'\n",
    "print(a+int(b))\n",
    "print(str(a)+b)\n",
    "print(a+float('2.2'))"
   ]
  },
  {
   "cell_type": "markdown",
   "metadata": {
    "id": "sx4bq0zbxc-W"
   },
   "source": [
    "### Índices de listas\n",
    "Uso de colchetes ```[]``` \n",
    "\n",
    "Iniciando em zero da esquerda para direita (válido para texto também e outras classes)\n",
    "\n",
    "Enquanto da direita para esquerda começa -1, depois -2 e assim por diante"
   ]
  },
  {
   "cell_type": "code",
   "execution_count": 25,
   "metadata": {},
   "outputs": [
    {
     "name": "stdout",
     "output_type": "stream",
     "text": [
      "5\n",
      "2\n",
      "[1, 2, 9]\n",
      "[3, 7, 5]\n",
      "[3, 7, 5, 1, 2]\n",
      "[1, 2, 9]\n",
      "[5, 1]\n"
     ]
    }
   ],
   "source": [
    "A=[3,7,5,1,2,9]\n",
    "\n",
    "## Um elemento\n",
    "print(A[2]) # posição dois em diante \n",
    "print(A[-2]) # penultimo elemento \n",
    "\n",
    "### Intervalos de elementos mais usados\n",
    "\n",
    "print(A[3:]) # posição três em diante \n",
    "print(A[:3]) # abaixo da posição três (ou seja, não inclui ele)\n",
    "\n",
    "print(A[:-1]) # da posição zero até antes do elemento -1 (ou seja, não inclui o último)\n",
    "print(A[-3:]) # da posição -3 (antepenultimo) até o fim no caso o último.\n",
    "\n",
    "print(A[2:-2]) # da posição dois até o penultimo\n",
    "\n",
    "\n",
    "\n"
   ]
  },
  {
   "cell_type": "markdown",
   "metadata": {},
   "source": [
    "### Estruturas de Repetição (loops)"
   ]
  },
  {
   "cell_type": "markdown",
   "metadata": {},
   "source": [
    "### while, usado quando não sabemos exatamente quando um loop irá terminar\n",
    "\n",
    "sintaxe:\n",
    "```\n",
    "while (condição): \n",
    "   comandos geralmente envolvendo indexador\n",
    "```\n",
    "obs: muitas vezes precisa de um elemento contador auxiliar, que inicia fora do laço e é alterado internamente ao laço.\n"
   ]
  },
  {
   "cell_type": "code",
   "execution_count": 49,
   "metadata": {},
   "outputs": [
    {
     "name": "stdout",
     "output_type": "stream",
     "text": [
      "2\n",
      "3\n",
      "5\n",
      "7\n",
      "9\n",
      "-4\n",
      "-5\n"
     ]
    }
   ],
   "source": [
    "### imprimir dados de uma lista até sair o número zero\n",
    "\n",
    "lista=[2,3,5,7,9,-4,-5,0,3,4] \n",
    "j=0\n",
    "while not lista[j]==0:\n",
    "    print(lista[j])\n",
    "    j=j+1\n",
    "    \n"
   ]
  },
  {
   "cell_type": "code",
   "execution_count": 47,
   "metadata": {},
   "outputs": [
    {
     "name": "stdout",
     "output_type": "stream",
     "text": [
      "-119 31\n"
     ]
    }
   ],
   "source": [
    "# Aproveitando letra (i) da primeira questão da lista de algoritmos:\n",
    "# Criando algoritmo que leia uma lista de \"n\" números reais que representa a venda semanal de uma empresa. \n",
    "# Considerando o custo fixo semanal em 12000 reais o algoritmo deverá calcular o lucro semanal e caso encontre \n",
    "# uma semana com lucro negativo ele deverá parar e emitir um aviso desta situacão.\n",
    "\n",
    "\n",
    "import numpy as np\n",
    "np.random.seed(123) # gerando uma semente\n",
    "vendas=np.random.normal(13000,400,200) # gerando 31 números aleatórios da distribuição Normal com Média 3000 e desvio padrão 10 \n",
    "Lucro=np.repeat(0, len(vendas)) # criando uma sequencia de 1 até 31 de um e\n",
    "Lucro[0]=vendas[0]-12000\n",
    "i=0\n",
    "while Lucro[i]>0:\n",
    "  i=i+1\n",
    "  Lucro[i]=vendas[i]-12000\n",
    "print(Lucro[i],i)"
   ]
  },
  {
   "cell_type": "markdown",
   "metadata": {},
   "source": [
    "### for , usado quando sabemos exatamente o número de loops\n",
    "\n",
    "sintaxe:\n",
    "```\n",
    "for (indexador) in intervalo:\n",
    "   comandos geralmente envolvendo indexador\n",
    "```"
   ]
  },
  {
   "cell_type": "code",
   "execution_count": 4,
   "metadata": {},
   "outputs": [],
   "source": [
    "### imprimir números de 1 a 10\n",
    "\n"
   ]
  },
  {
   "cell_type": "code",
   "execution_count": 5,
   "metadata": {},
   "outputs": [
    {
     "name": "stdout",
     "output_type": "stream",
     "text": [
      " A média da lista é = 7.6\n"
     ]
    }
   ],
   "source": [
    "## Letra g da primeira questão da lista de algoritmo\n",
    "## Criando algoritmo que leia uma lista de \"n\" números reais e retorne a média desta lista\n",
    "lista=[2,2,2,2,30]\n",
    "soma=0\n",
    "cont=0\n",
    "for i in range(len(lista)): \n",
    "  soma=soma+lista[i]\n",
    "  cont=cont+1\n",
    "print(f' A média da lista é = {soma/cont}')"
   ]
  },
  {
   "cell_type": "code",
   "execution_count": 6,
   "metadata": {},
   "outputs": [
    {
     "name": "stdout",
     "output_type": "stream",
     "text": [
      " A média da lista é = 7.6\n"
     ]
    }
   ],
   "source": [
    "### Alternativa usando função enumerate\n",
    "\n",
    "lista=[2,2,2,2,30]\n",
    "soma=0\n",
    "n_num=0\n",
    "for indice, valor in enumerate(lista):\n",
    "  soma=soma+valor\n",
    "\n",
    "n_num=indice+1\n",
    "print(f' A média da lista é = {soma/n_num}')"
   ]
  },
  {
   "cell_type": "markdown",
   "metadata": {},
   "source": [
    "## Condição (if, elif, else)\n",
    "\n",
    "sintaxe:\n",
    "```\n",
    "if condições:\n",
    "   comandos envolvidos\n",
    "elif condições:                (elif usa-se quando tem mais de duas condições)\n",
    "   comandos envolvidos\n",
    "else: comandos envolvidos      (caso não aconteça as condições anteriores)   \n",
    "    \n",
    "\n",
    "```\n"
   ]
  },
  {
   "cell_type": "code",
   "execution_count": 7,
   "metadata": {},
   "outputs": [],
   "source": [
    "### ver se um número é positivo, negativo ou zero\n",
    "x=1\n",
    "\n",
    "    "
   ]
  },
  {
   "cell_type": "markdown",
   "metadata": {},
   "source": [
    "### Usando loops e condições ao mesmo tempo"
   ]
  },
  {
   "cell_type": "code",
   "execution_count": 15,
   "metadata": {},
   "outputs": [
    {
     "name": "stdout",
     "output_type": "stream",
     "text": [
      " A soma dos positivos é = 17 , e a soma dos negativos é = -13\n"
     ]
    }
   ],
   "source": [
    "### Letra h da primeira questão da lisa de algoritmo:\n",
    "### Que leia uma lista de \"n\" números reais e retorne a soma dos valores positivos e a soma dos negativos.\n",
    "\n",
    "lista=[2,2,2,2,-3,-1,2,-4,-5,7]\n",
    "soma_pos=0\n",
    "soma_neg=0\n",
    "for i in range(len(lista)): \n",
    "  if lista[i]>=0:\n",
    "    soma_pos=soma_pos+lista[i]\n",
    "  else: soma_neg=soma_neg+lista[i]\n",
    "\n",
    "print(f' A soma dos positivos é = {soma_pos} , e a soma dos negativos é = {soma_neg}')"
   ]
  },
  {
   "cell_type": "markdown",
   "metadata": {},
   "source": [
    "## Criando uma função a partir de sua definição (def)\n",
    "\n",
    "sintaxe:\n",
    "```\n",
    "def nomedafunção(argumento1,...,argumento_n):\n",
    "   resultado1=comandos1 usando os argumentos\n",
    "   resultado2=comandos2 usando os argumentos\n",
    "   .\n",
    "   .\n",
    "   .\n",
    "   resultado_n=comandosn usando os argumentos\n",
    "   return resultado1,resultado2, ..., resultado_n \n",
    "```\n",
    "   \n",
    "(OBS: estes argumentos podem ter valores pré-definidos)   "
   ]
  },
  {
   "cell_type": "code",
   "execution_count": 27,
   "metadata": {},
   "outputs": [
    {
     "data": {
      "text/plain": [
       "8"
      ]
     },
     "execution_count": 27,
     "metadata": {},
     "output_type": "execute_result"
    }
   ],
   "source": [
    "### função que eleva a um número qualquer, se não escolher será elevado a 2\n",
    "\n",
    "    \n",
    "    "
   ]
  },
  {
   "cell_type": "code",
   "execution_count": 3,
   "metadata": {},
   "outputs": [
    {
     "data": {
      "text/plain": [
       "(80, -6)"
      ]
     },
     "execution_count": 3,
     "metadata": {},
     "output_type": "execute_result"
    }
   ],
   "source": [
    "### função que mostra o maior e o menor valor de uma série (com múltiplas saídas)\n",
    "\n",
    "def maior_menor(x):\n"
   ]
  },
  {
   "cell_type": "markdown",
   "metadata": {},
   "source": [
    "## Função lambda (ou anônima)\n",
    "\n",
    "apresenta forma reduzida e é bem aproveitada com outras funções\n",
    "\n",
    "sintaxe:  **lambda** argumento_1,...,aurgumento_n: expressão\n"
   ]
  },
  {
   "cell_type": "code",
   "execution_count": 43,
   "metadata": {},
   "outputs": [
    {
     "data": {
      "text/plain": [
       "4"
      ]
     },
     "execution_count": 43,
     "metadata": {},
     "output_type": "execute_result"
    }
   ],
   "source": [
    "# função def que eleva número ao quadrado\n",
    "\n",
    "def quad(x):\n",
    "  return x**2\n",
    "\n",
    "quad(2)\n"
   ]
  },
  {
   "cell_type": "code",
   "execution_count": 33,
   "metadata": {},
   "outputs": [
    {
     "data": {
      "text/plain": [
       "4"
      ]
     },
     "execution_count": 33,
     "metadata": {},
     "output_type": "execute_result"
    }
   ],
   "source": [
    "## Mesma função com lambda\n",
    "\n",
    "quad2=lambda x: x**2\n",
    "quad2(2)"
   ]
  },
  {
   "cell_type": "markdown",
   "metadata": {},
   "source": [
    "### Função Map"
   ]
  },
  {
   "cell_type": "markdown",
   "metadata": {},
   "source": [
    "Aplica uma função a cada elemento de uma lista\n"
   ]
  },
  {
   "cell_type": "code",
   "execution_count": null,
   "metadata": {},
   "outputs": [],
   "source": [
    "### Aplicar raiz quadrada em cada elemento de uma lista\n",
    "\n",
    "import math \n",
    "lista1 = [1, 4, 9, 16, 25]\n",
    "#math.sqrt(lista1) # Esse comando gera erro porque temos uma lista\n",
    "lista2 = list(map(math.sqrt, lista1))\n",
    "lista2"
   ]
  },
  {
   "cell_type": "code",
   "execution_count": null,
   "metadata": {},
   "outputs": [],
   "source": [
    "### usando a função lambda\n",
    "lista3=list(map(lambda x: math.sqrt(x),lista1))\n",
    "print(lista3)"
   ]
  }
 ],
 "metadata": {
  "colab": {
   "collapsed_sections": [],
   "name": "Primeiros_passos.ipynb",
   "provenance": []
  },
  "kernelspec": {
   "display_name": "Python 3",
   "language": "python",
   "name": "python3"
  },
  "language_info": {
   "codemirror_mode": {
    "name": "ipython",
    "version": 3
   },
   "file_extension": ".py",
   "mimetype": "text/x-python",
   "name": "python",
   "nbconvert_exporter": "python",
   "pygments_lexer": "ipython3",
   "version": "3.8.5"
  }
 },
 "nbformat": 4,
 "nbformat_minor": 1
}
