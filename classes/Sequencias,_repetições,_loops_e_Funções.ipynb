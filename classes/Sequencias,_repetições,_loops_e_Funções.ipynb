{
 "cells": [
  {
   "cell_type": "markdown",
   "metadata": {
    "id": "J4Xj2dC2wCDm"
   },
   "source": [
    "# Gerando sequências, criandos loops e funções."
   ]
  },
  {
   "cell_type": "markdown",
   "metadata": {
    "id": "5cVsov8unoTk"
   },
   "source": [
    "Gerando Sequencias e Repetições"
   ]
  },
  {
   "cell_type": "code",
   "execution_count": null,
   "metadata": {
    "colab": {
     "base_uri": "https://localhost:8080/"
    },
    "id": "RCccVFl7nrKo",
    "outputId": "be4b54da-36e4-47c3-b354-ebd7c8ce0a84"
   },
   "outputs": [
    {
     "name": "stdout",
     "output_type": "stream",
     "text": [
      "[0.         0.10526316 0.21052632 0.31578947 0.42105263 0.52631579\n",
      " 0.63157895 0.73684211 0.84210526 0.94736842 1.05263158 1.15789474\n",
      " 1.26315789 1.36842105 1.47368421 1.57894737 1.68421053 1.78947368\n",
      " 1.89473684 2.        ]\n",
      "[10 15 20 25]\n",
      "['A' 'A' 'B' 'B' 'B']\n",
      "['A' 'A' 'B' 'B' 'B' 'A' 'A' 'B' 'B' 'B' 'A' 'A' 'B' 'B' 'B']\n"
     ]
    }
   ],
   "source": [
    "import numpy as np # numpy biblioteca para manipulaçao de arrays, gerar sequencias, v.a.  etc \n",
    "x = np.linspace(0, 2, 20) # gerando uma sequencia de 0 a 2 de tamanho 20 \n",
    "print(x)\n",
    "y=np.arange( 10, 30, 5 )\n",
    "print(y)\n",
    "[\"A\",\"B\"]*2 # gerando repetições simples com list\n",
    "y=['A','B']\n",
    "np.repeat(y, [2, 3], axis=0) # repetindo o primeiro 2 vezes e o segundo 3 vezes\n",
    "g=np.repeat(y, [2,3],axis=0) # repetindo o primeiro (2 vezes e o segundo 2 vezes) isso em 3 momentos seguidos   \n",
    "print(g)\n",
    "g2=np.tile(g, 3) # gerando AABBB três vezes\n",
    "print(g2)"
   ]
  },
  {
   "cell_type": "markdown",
   "metadata": {
    "id": "44xvlY30bGHS"
   },
   "source": [
    "### Gerando Número aletórios"
   ]
  },
  {
   "cell_type": "code",
   "execution_count": null,
   "metadata": {
    "colab": {
     "base_uri": "https://localhost:8080/"
    },
    "id": "tZSCD0wDbFpS",
    "outputId": "c1a4fd58-ab73-4d2c-dd84-f25ac58295f4"
   },
   "outputs": [
    {
     "name": "stdout",
     "output_type": "stream",
     "text": [
      "<class 'numpy.ndarray'>\n"
     ]
    },
    {
     "data": {
      "text/plain": [
       "982.7136424497969"
      ]
     },
     "execution_count": 98,
     "metadata": {
      "tags": []
     },
     "output_type": "execute_result"
    }
   ],
   "source": [
    "import random # importando primeira biblioteca para numero aleatórios\n",
    "random.seed(10) # semente geradora\n",
    "random.uniform(2, 3) # Um número no intervalo [a, b]\n",
    "random.gauss(0, 1) # Um número da distribuição normal padrão\n",
    "\n",
    "import numpy as np # numpy biblioteca para manipulaçao de arrays (Usando para obter n amostras)\n",
    "normal=np.random.normal(loc = 10, scale = 2, size = 100) # 100 com dist. N(10,2^2)\n",
    "print(type(normal)) # classe associada a livraria numpy\n",
    "sum(normal)"
   ]
  },
  {
   "cell_type": "markdown",
   "metadata": {
    "id": "8TmhtuG6xTRl"
   },
   "source": [
    "### Criando funções"
   ]
  },
  {
   "cell_type": "markdown",
   "metadata": {
    "id": "PNs7qJRd0bMg"
   },
   "source": [
    "Criando uma função a partir de funções do pacote statistics"
   ]
  },
  {
   "cell_type": "code",
   "execution_count": 1,
   "metadata": {
    "colab": {
     "base_uri": "https://localhost:8080/"
    },
    "id": "a5kCxN5FxRby",
    "outputId": "91522685-2d80-4baa-99b5-e473b6ef1171"
   },
   "outputs": [
    {
     "name": "stdout",
     "output_type": "stream",
     "text": [
      "Soma = 9 , Média = 3 , Mediana = 3 , Variância = 1\n"
     ]
    }
   ],
   "source": [
    "import statistics as stat # pacotes com estatísticas descritivas básicas\n",
    "def descr(x):# função com descritivas\n",
    "  sx=sum(x) # função padrão\n",
    "  med=stat.median(x) # função dependente de stat\n",
    "  mx=stat.mean(x)\n",
    "  varx=stat.variance(x)\n",
    "  return print('Soma =',sx,', Média =',mx, ', Mediana =',med,', Variância =',varx)\n",
    "descr([2,3,4])\n",
    "\n"
   ]
  },
  {
   "cell_type": "markdown",
   "metadata": {
    "id": "BzIcCw0M5kf5"
   },
   "source": [
    "Criando funções usando estrutra condicional if (fixando valores iniciais)"
   ]
  },
  {
   "cell_type": "code",
   "execution_count": null,
   "metadata": {
    "colab": {
     "base_uri": "https://localhost:8080/"
    },
    "id": "Z4B4j9rV5nEn",
    "outputId": "618e0a62-0afa-4384-cf98-d466e4cfccb2"
   },
   "outputs": [
    {
     "name": "stdout",
     "output_type": "stream",
     "text": [
      "['A' 'A' 'A' 'B' 'B' 'B']\n",
      "['A' 'B' 'A' 'B']\n",
      "['A' 'A' 'A' 'B' 'B' 'B' 'A' 'A' 'A' 'B' 'B' 'B']\n",
      "Vai timbora carniça, aqui só vale inteiro positivo\n"
     ]
    }
   ],
   "source": [
    "\n",
    "#Criando uma função semelhante ao rep do R com funções do numpy\n",
    "# Obs as funções repeat e tile de numpy que naturalmente recebem inteiros positivos. \n",
    "# o primeiro if é para retornar mensagem antes do erro\n",
    "\n",
    "def rep(x, times = 1, each = 1): # =1 indica valor padrão q pode ser omitido\n",
    "     if times < 0 or each < 0 or isinstance(times, int)!=True or isinstance(each, int)!=True : \n",
    "      res = 'Vai timbora carniça, aqui só vale inteiro positivo'\n",
    "      return res\n",
    "     if each >= 1 :\n",
    "        res = np.repeat(x,each) \n",
    "     if times >= 1:\n",
    "        res = np.tile(res,times)\n",
    "     return res\n",
    "\n",
    "\n",
    "# usando a função\n",
    "mr=rep(['A','B'],each=3) # repetindo cada elemento 3 vezes (omitindo times=1)\n",
    "print(mr)\n",
    "mr1=rep(['A','B'],times=2) # repetindo o vetor duas vezes (omitindo each=1)\n",
    "print(mr1)\n",
    "mr2=rep(['A','B'],times=2,each=3) # repetindo cada elemento 3 vezes e esse vetor gerado por duas vezes\n",
    "print(mr2)\n",
    "\n",
    "### Tentando enganar a função\n",
    "mr3=rep(['A','B'],times=-2,each=1.1)\n",
    "print(mr3)\n",
    "\n"
   ]
  },
  {
   "cell_type": "markdown",
   "metadata": {
    "id": "wdRqAWIdiGHT"
   },
   "source": [
    "Função usando intervalos "
   ]
  },
  {
   "cell_type": "code",
   "execution_count": null,
   "metadata": {
    "colab": {
     "base_uri": "https://localhost:8080/"
    },
    "id": "kg8sQMzbX29b",
    "outputId": "4f39874e-eb28-499b-eff4-c392ad0c2713"
   },
   "outputs": [
    {
     "name": "stdout",
     "output_type": "stream",
     "text": [
      "Idade: 7 -- Faixa Etária: Menor de idade\n",
      "Idade: 30 -- Faixa Etária: Adulto\n",
      "Idade: 67 -- Faixa Etária: Idoso\n",
      "Idade: 112 -- Faixa Etária: Centenário\n",
      "Idade: -22 -- Faixa Etária: Inválida\n"
     ]
    }
   ],
   "source": [
    "def fx(idade):\n",
    "  if 0 <= idade < 18:\n",
    "    return 'Menor de idade'\n",
    "  elif idade in range(18,65): # inclui 18 [18,65)\n",
    "    return 'Adulto'\n",
    "  elif idade in range(65,100):\n",
    "    return 'Idoso'\n",
    "  elif idade >=100:\n",
    "    return 'Centenário'\n",
    "  else: return 'Inválida'\n",
    "\n",
    "fx(65)\n",
    "# Aplicando em diversos valores usando um for\n",
    "for idade in (7,30,67,112,-22):\n",
    " print(f'Idade: {idade} -- Faixa Etária: {fx(idade)}')"
   ]
  },
  {
   "cell_type": "markdown",
   "metadata": {
    "id": "WlvQUbJSNAuw"
   },
   "source": [
    "### Estruturas de repetição"
   ]
  },
  {
   "cell_type": "markdown",
   "metadata": {},
   "source": [
    "#### While"
   ]
  },
  {
   "cell_type": "code",
   "execution_count": null,
   "metadata": {
    "colab": {
     "base_uri": "https://localhost:8080/"
    },
    "id": "5pfRP2pSNEQ0",
    "outputId": "5de8f2c1-780d-444b-f2ba-28e51aab9044"
   },
   "outputs": [
    {
     "name": "stdout",
     "output_type": "stream",
     "text": [
      "Informe onúmero:  1\n",
      "Informe onúmero:  2\n",
      "Informe onúmero:  3\n",
      "O número secreto 3 foi encontrado\n"
     ]
    }
   ],
   "source": [
    "\n",
    "from random import randint # valor aleatório inteiro num intervalo\n",
    "\n",
    "numero_informado=-1\n",
    "numero_secreto=randint(0, 9)\n",
    "\n",
    "while numero_informado != numero_secreto:\n",
    "  numero_informado=int(input('Informe onúmero:  '))\n",
    "\n",
    "print('O número secreto {} foi encontrado'.format(numero_secreto) ) # outra maneira de fazer o print\n"
   ]
  },
  {
   "cell_type": "markdown",
   "metadata": {
    "id": "Udc0wkFnWWQB"
   },
   "source": [
    "#### for"
   ]
  },
  {
   "cell_type": "code",
   "execution_count": null,
   "metadata": {
    "colab": {
     "base_uri": "https://localhost:8080/"
    },
    "id": "6VkEckRKWZ01",
    "outputId": "7160c507-edba-4bc3-8979-c14e2c77af07"
   },
   "outputs": [
    {
     "name": "stdout",
     "output_type": "stream",
     "text": [
      "i=5,i=6,i=7,i=8,i=9,i=10,FIM\n",
      "2*1 = 2\n",
      "2*2 = 4\n",
      "2*3 = 6\n",
      "2*4 = 8\n",
      "2*5 = 10\n",
      "2*6 = 12\n",
      "2*7 = 14\n",
      "2*8 = 16\n",
      "2*9 = 18\n",
      "2*10 = 20\n",
      "3*1 = 3\n",
      "3*2 = 6\n",
      "3*3 = 9\n",
      "3*4 = 12\n",
      "3*5 = 15\n",
      "3*6 = 18\n",
      "3*7 = 21\n",
      "3*8 = 24\n",
      "3*9 = 27\n",
      "3*10 = 30\n",
      "1) Belgica\n",
      "2) França\n",
      "3) Brasil\n",
      "4) Inglaterra\n"
     ]
    }
   ],
   "source": [
    "for i in range(5,11): # intervalo inteiros sem incluir 11\n",
    "  print(f'i={i}',end=',') # padrão end='\\n' para ser impresso em outra linha\n",
    "print(\"FIM\")\n",
    "# Imprimindo uma tabuada de multiplicação \n",
    "# por exemplo de 2 de 3\n",
    "for i in range(2,4): #[2,4)\n",
    "  for j in range(1,11):\n",
    "    print(f'{i}*{j} = {i*j}')\n",
    "\n",
    "  "
   ]
  },
  {
   "cell_type": "code",
   "execution_count": 5,
   "metadata": {},
   "outputs": [
    {
     "name": "stdout",
     "output_type": "stream",
     "text": [
      "Belgica\n",
      "França\n",
      "Brasil\n",
      "Inglaterra\n",
      "1) Belgica\n",
      "2) França\n",
      "3) Brasil\n",
      "4) Inglaterra\n"
     ]
    }
   ],
   "source": [
    "## percorendo uma lista com um for\n",
    "\n",
    "# opção básica (sem acesso ao índice em si)\n",
    "# retomando os nomes da lista\n",
    "fifa=['Belgica','França','Brasil','Inglaterra']\n",
    "for i in fifa:\n",
    "  print(f'{i}')\n",
    "\n",
    "# lista com a posição no ranking e o nome das seleções de futebol (usando enumerate)\n",
    "for posi, time in enumerate(fifa):\n",
    "  print(f'{posi +1})', time)"
   ]
  },
  {
   "cell_type": "markdown",
   "metadata": {
    "id": "r1_JStNX_Muj"
   },
   "source": [
    "## Função lambda\n",
    "Função mais compacta muito utilizada com outras funções"
   ]
  },
  {
   "cell_type": "code",
   "execution_count": null,
   "metadata": {
    "colab": {
     "base_uri": "https://localhost:8080/"
    },
    "id": "Uv5_xebY_PKB",
    "outputId": "fbd18d10-82a1-42cf-f26b-472fcd580c4b"
   },
   "outputs": [
    {
     "name": "stdout",
     "output_type": "stream",
     "text": [
      "4\n",
      "4\n"
     ]
    }
   ],
   "source": [
    "# função normal de elevado ao quadrado\n",
    "def quad(x):\n",
    "  return x**2\n",
    "print(quad(2))\n",
    "# função lamda \n",
    "f = lambda x: x**2\n",
    "print(f(2))\n"
   ]
  },
  {
   "cell_type": "markdown",
   "metadata": {
    "id": "h1GzgQkyAAhu"
   },
   "source": [
    "## Funções filter, map e reduce"
   ]
  },
  {
   "cell_type": "markdown",
   "metadata": {
    "id": "xGPGjiCJAaEF"
   },
   "source": [
    "### *Filter*, aplica uma função para filtrar elementes de uma sequência por outra função"
   ]
  },
  {
   "cell_type": "code",
   "execution_count": null,
   "metadata": {
    "colab": {
     "base_uri": "https://localhost:8080/"
    },
    "id": "cOpP03BDAffX",
    "outputId": "0405df5f-c353-4aeb-92a9-b108c02e1026"
   },
   "outputs": [
    {
     "name": "stdout",
     "output_type": "stream",
     "text": [
      "[10.2, 4, 3, 5.3]\n"
     ]
    }
   ],
   "source": [
    "# Aplicando filter para encontrar números positivos\n",
    "def posi(x):\n",
    "  if x>0:\n",
    "    return True\n",
    "  else:\n",
    "    return False\n",
    "\n",
    "valores = [10.2, 4, -1.1, 3, 5.3, -1, -11.5]\n",
    "d2 = list(filter(posi, valores))\n",
    "print(d2) \n"
   ]
  },
  {
   "cell_type": "code",
   "execution_count": null,
   "metadata": {
    "colab": {
     "base_uri": "https://localhost:8080/"
    },
    "id": "64on7TxxFFwJ",
    "outputId": "282163a4-25a8-4927-801f-dc8f990a036a"
   },
   "outputs": [
    {
     "name": "stdout",
     "output_type": "stream",
     "text": [
      "[10.2, 4, 3, 5.3]\n"
     ]
    }
   ],
   "source": [
    "### usando filter com uma função lambda (Mais curta)\n",
    "positivo = list(filter(lambda x: x > 0, valores))\n",
    "print(positivo)"
   ]
  },
  {
   "cell_type": "markdown",
   "metadata": {
    "id": "3exZ3fmCJaUU"
   },
   "source": [
    " ### *Map*, Aplica funções a cada elemento de uma lista"
   ]
  },
  {
   "cell_type": "code",
   "execution_count": null,
   "metadata": {
    "colab": {
     "base_uri": "https://localhost:8080/"
    },
    "id": "mOyEn0oZKM0O",
    "outputId": "53708d03-e52f-424c-f0a1-4b4aa3c45ea1"
   },
   "outputs": [
    {
     "name": "stdout",
     "output_type": "stream",
     "text": [
      "[1.0, 2.0, 3.0, 4.0, 5.0]\n",
      "[1.0, 2.0, 3.0, 4.0, 5.0]\n"
     ]
    }
   ],
   "source": [
    "import math\n",
    "lista1 = [1, 4, 9, 16, 25]\n",
    "#math.sqrt(lista1) # Esse comando gera erro porque temos uma lista\n",
    "lista2 = list(map(math.sqrt, lista1))\n",
    "print(lista2)\n",
    "### usando a função lambda\n",
    "lista3=list(map(lambda x: math.sqrt(x),lista1))\n",
    "print(lista3)"
   ]
  },
  {
   "cell_type": "markdown",
   "metadata": {
    "id": "ftpVRs6-LbT9"
   },
   "source": [
    "### *Reduce*, Aplica função nos elementos de uma lista de modo a reduzir tudo em um só número."
   ]
  },
  {
   "cell_type": "code",
   "execution_count": null,
   "metadata": {
    "colab": {
     "base_uri": "https://localhost:8080/"
    },
    "id": "ARU5boUFLybP",
    "outputId": "c1440a7b-54b9-45f9-ad77-2819452e0cbe"
   },
   "outputs": [
    {
     "name": "stdout",
     "output_type": "stream",
     "text": [
      "24\n"
     ]
    },
    {
     "data": {
      "text/plain": [
       "24"
      ]
     },
     "execution_count": 108,
     "metadata": {
      "tags": []
     },
     "output_type": "execute_result"
    }
   ],
   "source": [
    "## Somando valores de uma lista\n",
    "from functools import reduce # função agora acoplada ao pacote functools\n",
    "vet=[1,2,3,4]\n",
    "### Criando um produtório\n",
    "def prod(x,y):\n",
    "  return x*y\n",
    "print(reduce(prod,vet))\n",
    "# Agora com função lambda\n",
    "reduce(lambda x,y:x*y,vet) "
   ]
  },
  {
   "cell_type": "code",
   "execution_count": 9,
   "metadata": {},
   "outputs": [
    {
     "name": "stdout",
     "output_type": "stream",
     "text": [
      "['B', 'B', 'A', 'C']\n"
     ]
    }
   ],
   "source": [
    "cc=['C','A','B','B']\n",
    "cc.reverse()\n",
    "print(cc)"
   ]
  },
  {
   "cell_type": "code",
   "execution_count": null,
   "metadata": {},
   "outputs": [],
   "source": []
  }
 ],
 "metadata": {
  "colab": {
   "collapsed_sections": [],
   "name": "Sequencias, repetições, loops e Funções.ipynb",
   "provenance": []
  },
  "kernelspec": {
   "display_name": "Python 3",
   "language": "python",
   "name": "python3"
  },
  "language_info": {
   "codemirror_mode": {
    "name": "ipython",
    "version": 3
   },
   "file_extension": ".py",
   "mimetype": "text/x-python",
   "name": "python",
   "nbconvert_exporter": "python",
   "pygments_lexer": "ipython3",
   "version": "3.8.5"
  }
 },
 "nbformat": 4,
 "nbformat_minor": 1
}
