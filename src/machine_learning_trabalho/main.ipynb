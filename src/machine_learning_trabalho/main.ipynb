{
 "cells": [
  {
   "cell_type": "markdown",
   "metadata": {},
   "source": [
    "<h3>Principais libs utilizadas</h3>"
   ]
  },
  {
   "cell_type": "code",
   "execution_count": 384,
   "metadata": {},
   "outputs": [],
   "source": [
    "import seaborn as sn\n",
    "import pandas as pd\n",
    "import numpy as np\n",
    "import matplotlib.pyplot as plt\n",
    "from scipy import stats\n",
    "import os\n",
    "import graphviz\n",
    "from sklearn import metrics\n",
    "from sklearn import tree\n",
    "import xgboost as xgb\n",
    "from sklearn.model_selection import GridSearchCV\n",
    "from sklearn.model_selection import KFold\n",
    "from sklearn.model_selection import RepeatedStratifiedKFold\n",
    "from sklearn.model_selection import cross_val_score\n",
    "from sklearn.model_selection import train_test_split\n",
    "from sklearn.metrics import roc_curve, confusion_matrix, classification_report, accuracy_score\n",
    "from sklearn.linear_model import LogisticRegression\n",
    "from sklearn.discriminant_analysis import LinearDiscriminantAnalysis\n",
    "from sklearn.tree import DecisionTreeClassifier\n",
    "from sklearn.neighbors import KNeighborsClassifier\n",
    "from sklearn.naive_bayes import GaussianNB\n",
    "from sklearn.ensemble import RandomForestClassifier\n",
    "from sklearn.svm import SVC\n",
    "import seaborn as sns\n",
    "\n",
    "# define dark background pros graficos\n",
    "plt.style.use('dark_background')\n",
    "base_color = sns.color_palette()[1]"
   ]
  },
  {
   "cell_type": "markdown",
   "metadata": {},
   "source": [
    "<h3>Importa-se os dados formatados em csv com colunas correspondentes e seta variáveis globais</h3>"
   ]
  },
  {
   "cell_type": "code",
   "execution_count": 385,
   "metadata": {},
   "outputs": [],
   "source": [
    "from os.path import abspath\n",
    "# leitura dos dados\n",
    "data = pd.read_csv(abspath('./data/haberman.csv'))\n",
    "\n",
    "# folds\n",
    "n_folds=30\n",
    "\n",
    "scoring='accuracy'\n",
    "cv = RepeatedStratifiedKFold(n_splits=n_folds, n_repeats=3,\n",
    "random_state=1)\n",
    "\n",
    "GRAPHS_PATH = os.path.join(abspath('./graphs/'))\n",
    "\n",
    "os.makedirs(GRAPHS_PATH, exist_ok=True)\n"
   ]
  },
  {
   "cell_type": "markdown",
   "metadata": {},
   "source": [
    "<h3>Retorna métricas para o teste</h3>"
   ]
  },
  {
   "cell_type": "code",
   "execution_count": 386,
   "metadata": {},
   "outputs": [],
   "source": [
    "def metric(test,predict):\n",
    "    mcc=metrics.matthews_corrcoef(test,predict)\n",
    "    acc=metrics.accuracy_score(test,predict)\n",
    "    p=metrics.precision_score(test,predict)\n",
    "    r=metrics.recall_score(test,predict)\n",
    "    f1=metrics.f1_score(test,predict)\n",
    "    name={}\n",
    "    name = dict(zip(['ACC','MCC','R','P','F'], [acc,mcc,r,p,f1]))\n",
    "    return name\n"
   ]
  },
  {
   "cell_type": "markdown",
   "metadata": {},
   "source": [
    "<h3>Retorna a matrix de confusão para o teste</h3>"
   ]
  },
  {
   "cell_type": "code",
   "execution_count": 387,
   "metadata": {},
   "outputs": [],
   "source": [
    "def confusion_matrix(test,predict):\n",
    "    cm = pd.crosstab(test, predict, rownames=['Real'],\n",
    "    colnames=['Predict'])\n",
    "    return cm"
   ]
  },
  {
   "cell_type": "markdown",
   "metadata": {},
   "source": [
    "<h3>Gera os heatmaps para o teste</h3>"
   ]
  },
  {
   "cell_type": "code",
   "execution_count": 388,
   "metadata": {},
   "outputs": [],
   "source": [
    "def mc_heatmap(original,graph_name,best):\n",
    "    if(best is not None):\n",
    "        fig, (ax1, ax2) = plt.subplots(1,2)\n",
    "        sn.heatmap(original, ax=ax1,annot=True)\n",
    "        ax1.title.set_text('First model')\n",
    "        sn.heatmap(best, ax=ax2,annot=True)\n",
    "        ax2.title.set_text('Best model')\n",
    "        fig.set_size_inches(10,4)\n",
    "    else:\n",
    "        sn.heatmap(original,annot=True)\n",
    "        plt.title('Original model')\n",
    "            \n",
    "    plt.savefig(os.path.join(GRAPHS_PATH, graph_name+'.png'))\n",
    "    plt.show()\n"
   ]
  },
  {
   "cell_type": "markdown",
   "metadata": {},
   "source": [
    "<h3>O teste de Shapiro para detectar distribuições normais pode ser dado como:</h3>"
   ]
  },
  {
   "cell_type": "code",
   "execution_count": 389,
   "metadata": {},
   "outputs": [],
   "source": [
    "def shapiro_test(col):\n",
    "    n=data.columns.get_loc(col)\n",
    "    sp = stats.shapiro(data.iloc[:,n])\n",
    "    est = sp.statistic\n",
    "    pvalor = sp.pvalue\n",
    "    if pvalor > 0.05:\n",
    "        dist_type='Normal distribution'\n",
    "    else:\n",
    "        dist_type='Non normal distribution'\n",
    "    shap_test = dict(zip(['estat','pvalue','dist_type'], [est,\n",
    "    pvalor,dist_type]))\n",
    "    print(f'{col} p-value {pvalor:,.5f}, then the distribution is {dist_type}.')\n",
    "    return shap_test"
   ]
  },
  {
   "cell_type": "markdown",
   "metadata": {},
   "source": [
    "<h3>Análise com os modelos - Divisão de database e demais etapas iniciais da análise</h3>"
   ]
  },
  {
   "cell_type": "code",
   "execution_count": 390,
   "metadata": {},
   "outputs": [
    {
     "name": "stdout",
     "output_type": "stream",
     "text": [
      "\n",
      "Dataframe size: 306 lines\n",
      "\n",
      "Dataframe columns: Index(['age', 'year', 'nodes', 'survival'], dtype='object')\n",
      "\n",
      "age p-value 0.02606, then the distribution is Non normal distribution.\n",
      "year p-value 0.00000, then the distribution is Non normal distribution.\n",
      "nodes p-value 0.00000, then the distribution is Non normal distribution.\n",
      "survival p-value 0.00000, then the distribution is Non normal distribution.\n",
      "LR: 0.774603 (0.122613)\n",
      "LDA: 0.785516 (0.123847)\n",
      "KNN: 0.766865 (0.122895)\n",
      "CART: 0.681746 (0.154500)\n",
      "NB: 0.790278 (0.123763)\n",
      "RF: 0.730556 (0.144843)\n"
     ]
    }
   ],
   "source": [
    "#dataframe size\n",
    "print('\\nDataframe size: {} lines'.format(data.shape[0]))\n",
    "# dataframe columns\n",
    "print('\\nDataframe columns: {}\\n'.format(data.columns))\n",
    "# dataframe analysis variables\n",
    "X = data.iloc[:,:-1]\n",
    "# dataframe response variable\n",
    "Y = data['survival']\n",
    "\n",
    "# Shapiro test for each column\n",
    "shap_age = shapiro_test('age')\n",
    "shap_year = shapiro_test('year')\n",
    "shap_nodes = shapiro_test('nodes')\n",
    "shap_survival = shapiro_test('survival')\n",
    "\n",
    "#Model divided in two groups:\n",
    "np.random.seed(7)\n",
    "x_train,x_test,y_train,y_test=train_test_split(X,Y,test_size=0.3,\n",
    "random_state=0)\n",
    "\n",
    "#Models created\n",
    "models = []\n",
    "models.append(('LR', LogisticRegression(solver='newton-cg')))\n",
    "models.append(('LDA', LinearDiscriminantAnalysis()))\n",
    "models.append(('KNN', KNeighborsClassifier()))\n",
    "models.append(('CART', DecisionTreeClassifier()))\n",
    "models.append(('NB', GaussianNB()))\n",
    "models.append(('RF', RandomForestClassifier()))\n",
    "\n",
    "# Initial evaluation of models with training set\n",
    "results = []\n",
    "names = []\n",
    "for name, model in models:\n",
    "    cv_results = cross_val_score(model, x_train.values, y_train.values,\n",
    "    cv=cv, scoring=scoring)\n",
    "    results.append(cv_results)\n",
    "    names.append(name)\n",
    "    msg = \"%s: %f (%f)\" % (name, cv_results.mean(), cv_results.std())\n",
    "    print(msg)\n",
    "\n",
    "# fig = plt.figure()\n",
    "# fig.suptitle('Algorithm Comparison')\n",
    "# fig.set_size_inches(10,5)\n",
    "# ax = fig.add_subplot(111)\n",
    "# plt.boxplot(results)\n",
    "# ax.set_xticklabels(names)\n",
    "# plt.savefig(os.path.join(GRAPHS_PATH, 'comparison_boxplot.png'))\n",
    "# plt.show()"
   ]
  },
  {
   "cell_type": "markdown",
   "metadata": {},
   "source": [
    "<h3>1 - Regressão Logistica (LR)</h3>"
   ]
  },
  {
   "cell_type": "code",
   "execution_count": 391,
   "metadata": {},
   "outputs": [
    {
     "name": "stdout",
     "output_type": "stream",
     "text": [
      "{'ACC': 0.6304347826086957, 'MCC': 0.04028297472553804, 'R': 0.9827586206896551, 'P': 0.6333333333333333, 'F': 0.7702702702702702}\n"
     ]
    },
    {
     "data": {
      "image/png": "[encoded data removed]",
      "text/plain": [
       "<Figure size 432x288 with 2 Axes>"
      ]
     },
     "metadata": {},
     "output_type": "display_data"
    }
   ],
   "source": [
    "logistic_regression=LogisticRegression()\n",
    "logistic_regression.fit(x_train,y_train)\n",
    "y_pred_lr=logistic_regression.predict(x_test)\n",
    "\n",
    "#Confusion matrix\n",
    "LR_MC = confusion_matrix(y_test,y_pred_lr)\n",
    "\n",
    "# metrics\n",
    "LR_METRICS = metric(y_test,y_pred_lr)\n",
    "print(LR_METRICS)\n",
    "mc_heatmap(LR_MC, 'LR_MC', None)\n"
   ]
  },
  {
   "cell_type": "markdown",
   "metadata": {},
   "source": [
    "<h3>2 - Análise Discriminante (LDA)</h3>"
   ]
  },
  {
   "cell_type": "code",
   "execution_count": 392,
   "metadata": {},
   "outputs": [
    {
     "name": "stdout",
     "output_type": "stream",
     "text": [
      "{'ACC': 0.6413043478260869, 'MCC': 0.11444788768107905, 'R': 0.9655172413793104, 'P': 0.6436781609195402, 'F': 0.7724137931034483}\n"
     ]
    },
    {
     "data": {
      "image/png": "[encoded data removed]",
      "text/plain": [
       "<Figure size 432x288 with 2 Axes>"
      ]
     },
     "metadata": {},
     "output_type": "display_data"
    }
   ],
   "source": [
    "discriminant_analysis=LinearDiscriminantAnalysis()\n",
    "discriminant_analysis.fit(x_train,y_train)\n",
    "y_pred_lda=discriminant_analysis.predict(x_test)\n",
    "\n",
    "# Confusion matrix\n",
    "LDA_MC = confusion_matrix(y_test,y_pred_lda)\n",
    "\n",
    "# Metrics\n",
    "LDA_METRICS = metric(y_test,y_pred_lda)\n",
    "print(LDA_METRICS)\n",
    "mc_heatmap(LDA_MC, 'LDA_MC', None)\n"
   ]
  },
  {
   "cell_type": "markdown",
   "metadata": {},
   "source": [
    "<h3>3 - Árvore de Decisão (CART)</h3>"
   ]
  },
  {
   "cell_type": "code",
   "execution_count": 393,
   "metadata": {},
   "outputs": [
    {
     "name": "stdout",
     "output_type": "stream",
     "text": [
      "{'ACC': 0.6304347826086957, 'MCC': 0.16960650188115262, 'R': 0.7758620689655172, 'P': 0.6818181818181818, 'F': 0.7258064516129032}\n",
      "Fitting 30 folds for each of 50 candidates, totalling 1500 fits\n",
      "{'ACC': 0.6304347826086957, 'MCC': 0.16053840922847368, 'R': 0.7931034482758621, 'P': 0.6764705882352942, 'F': 0.7301587301587301}\n"
     ]
    },
    {
     "data": {
      "image/png": "[encoded data removed]",
      "text/plain": [
       "<Figure size 720x288 with 4 Axes>"
      ]
     },
     "metadata": {},
     "output_type": "display_data"
    },
    {
     "data": {
      "image/png": "[encoded data removed]",
      "text/plain": [
       "<Figure size 720x360 with 1 Axes>"
      ]
     },
     "metadata": {},
     "output_type": "display_data"
    }
   ],
   "source": [
    "cart=DecisionTreeClassifier()\n",
    "cart.fit(x_train.values,y_train.values)\n",
    "y_pred_cart=cart.predict(x_test.values)\n",
    "\n",
    "# Confusion matrix\n",
    "CART_MC = confusion_matrix(y_test,y_pred_cart)\n",
    "\n",
    "# Metrics\n",
    "CART_METRICS = metric(y_test,y_pred_cart)\n",
    "print(CART_METRICS)\n",
    "\n",
    "# change parameters\n",
    "np.random.seed(7)\n",
    "\n",
    "max_depth = [2, 3, 5, 10, 20]\n",
    "min_samples_leaf = [5, 10, 20, 50, 100]\n",
    "\n",
    "criterion = [\"gini\", \"entropy\"]\n",
    "param_grid = dict(max_depth=max_depth, min_samples_leaf=\n",
    "min_samples_leaf,criterion=criterion)\n",
    "\n",
    "grid_search = GridSearchCV(estimator=cart, param_grid=param_grid, cv\n",
    "=n_folds, n_jobs=-1, verbose=1, scoring = \"accuracy\")\n",
    "\n",
    "grid_result=grid_search.fit(x_train, y_train)\n",
    "prof=grid_result.best_params_['max_depth']\n",
    "min=grid_result.best_params_['min_samples_leaf']\n",
    "crit=grid_result.best_params_['criterion']\n",
    "\n",
    "# Remake the model\n",
    "cart=DecisionTreeClassifier(max_depth=prof, min_samples_leaf=min,\n",
    "criterion=crit)\n",
    "cart.fit(x_train.values,y_train.values)\n",
    "y_pred_cart_new=cart.predict(x_test.values)\n",
    "\n",
    "# Confusion matrix\n",
    "CART_MC_NEW = confusion_matrix(y_test,y_pred_cart_new)\n",
    "\n",
    "# Metrics\n",
    "CART_METRICS_NEW = metric(y_test,y_pred_cart_new)\n",
    "print(CART_METRICS_NEW)\n",
    "mc_heatmap(CART_MC, 'CART_MC', CART_MC_NEW)\n",
    "\n",
    "# Plot decision tree\n",
    "fig = plt.figure(figsize=(10,5))\n",
    "fig.suptitle('Decision Tree')\n",
    "tree.plot_tree(cart, feature_names=X.columns,filled=False,\n",
    "class_names=['1','2'],fontsize=10,rounded=True, proportion=True)\n",
    "plt.savefig(os.path.join(GRAPHS_PATH, 'cart_tree.png'))\n",
    "plt.show()\n",
    "\n"
   ]
  },
  {
   "cell_type": "markdown",
   "metadata": {},
   "source": [
    "<h3>4 - KNN</h3>"
   ]
  },
  {
   "cell_type": "code",
   "execution_count": 403,
   "metadata": {},
   "outputs": [
    {
     "name": "stdout",
     "output_type": "stream",
     "text": [
      "{'ACC': 0.6413043478260869, 'MCC': 0.13428505920786402, 'R': 0.9137931034482759, 'P': 0.654320987654321, 'F': 0.7625899280575539}\n"
     ]
    },
    {
     "data": {
      "image/png": "[encoded data removed]",
      "text/plain": [
       "<Figure size 720x288 with 4 Axes>"
      ]
     },
     "metadata": {},
     "output_type": "display_data"
    },
    {
     "name": "stdout",
     "output_type": "stream",
     "text": [
      "  metric  valueoriginal_model  valuebest_model\n",
      "0    ACC             0.641304         0.706522\n",
      "1    MCC             0.134285         0.354287\n",
      "2      R             0.913793         0.982759\n",
      "3      P             0.654321         0.686747\n",
      "4      F             0.762590         0.808511\n"
     ]
    }
   ],
   "source": [
    "#compare the best model with the original one\n",
    "def metric_comp(original,best):\n",
    "    _items=original.items()\n",
    "    _list=list(_items)\n",
    "    df1=pd.DataFrame(_list,columns=['metric','value'])\n",
    "    _items=best.items()\n",
    "    _list=list(_items)\n",
    "    df2=pd.DataFrame(_list,columns=['metric','value'])\n",
    "    df_comp = df1.merge(df2, how='left', on='metric',suffixes=['original_model', 'best_model'])\n",
    "    return df_comp\n",
    "\n",
    "knn=KNeighborsClassifier(n_neighbors=5)\n",
    "knn.fit(x_train.values,y_train.values)\n",
    "y_pred_knn=knn.predict(x_test.values)\n",
    "\n",
    "# Confusion matrix\n",
    "KNN_MC = confusion_matrix(y_test,y_pred_knn)\n",
    "# Metrics\n",
    "KNN_METRICS = metric(y_test,y_pred_knn)\n",
    "print(KNN_METRICS)\n",
    "#Best K\n",
    "np.random.seed(7)\n",
    "\n",
    "k = range(1,23,2)\n",
    "\n",
    "deltaL = ['euclidean', 'minkowski', 'manhattan']\n",
    "param_grid = dict(n_neighbors=k, metric=deltaL)\n",
    "\n",
    "grid = GridSearchCV(estimator=knn, param_grid=param_grid, scoring=\n",
    "scoring, cv=cv)\n",
    "\n",
    "grid_result = grid.fit(x_train.values, y_train.values)\n",
    "best_k=grid_result.best_params_['n_neighbors']\n",
    "best_acc=grid_result.best_score_\n",
    "best_dist=grid_result.best_params_['metric']\n",
    "\n",
    "#Remake the model\n",
    "knn=KNeighborsClassifier(n_neighbors=best_k,metric=best_dist)\n",
    "knn.fit(x_train.values,y_train.values)\n",
    "y_pred_knn=knn.predict(x_test.values)\n",
    "\n",
    "#Confusion matrix\n",
    "KNN_NEW_MC = confusion_matrix(y_test,y_pred_knn)\n",
    "\n",
    "#New metrics\n",
    "KNN_NEW_METRICS = metric(y_test,y_pred_knn)\n",
    "\n",
    "#Print results\n",
    "DIFF_KNN=metric_comp(KNN_METRICS,KNN_NEW_METRICS)\n",
    "mc_heatmap(KNN_MC,'KNN_MC',KNN_NEW_MC)\n",
    "print(DIFF_KNN)\n"
   ]
  }
 ],
 "metadata": {
  "interpreter": {
   "hash": "c90e8bf577a58230f6eb2e92b84586e9499d79f6918da5df8f2508b499d068de"
  },
  "kernelspec": {
   "display_name": "Python 3.8.10 64-bit ('venv': venv)",
   "language": "python",
   "name": "python3"
  },
  "language_info": {
   "codemirror_mode": {
    "name": "ipython",
    "version": 3
   },
   "file_extension": ".py",
   "mimetype": "text/x-python",
   "name": "python",
   "nbconvert_exporter": "python",
   "pygments_lexer": "ipython3",
   "version": "3.8.10"
  },
  "orig_nbformat": 4
 },
 "nbformat": 4,
 "nbformat_minor": 2
}
