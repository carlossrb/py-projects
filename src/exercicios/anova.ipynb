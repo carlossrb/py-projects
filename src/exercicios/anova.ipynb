{
 "cells": [
  {
   "cell_type": "code",
   "execution_count": 28,
   "source": [
    "import pandas as pd\n",
    "import statsmodels.api as sm\n",
    "from statsmodels.formula.api import ols\n",
    "import matplotlib.pyplot as plt\n",
    "import seaborn as sns\n",
    "plt.style.use('dark_background')\n",
    "\n",
    "# dados\n",
    "data = {\"A\": {0: 49, 1: 55, 2: 51, 3: 52, 4: 48}, \"B\": {\n",
    "    0: 53, 1: 54, 2: 58, 3: 49, 4: 56}, \"C\": {0: 55, 1: 51, 2: 52, 3: 52, 4: 52, 5: 50}}\n",
    "df = pd.DataFrame(data)\n",
    "\n",
    "df_melt = pd.melt(df.reset_index(), id_vars=['index'], value_vars=['A', 'B', 'C'])\n",
    "\n",
    "df_melt.columns = ['index', 'treatments', 'value']\n",
    "\n",
    "ax = sns.boxplot(data=df)\n",
    "ax = sns.swarmplot(data=df, color=\".7\")\n",
    "ax.title.set_text('Variância das máquinas')\n",
    "ax.set_xlabel('Máquina')\n",
    "ax.set_ylabel('Diâmetro (mm)')\n",
    "\n",
    "plt.figure()\n",
    "\n",
    "#Obter tabela com valores da anova\n",
    "model = ols('value ~ treatments', data=df_melt).fit()\n",
    "anova_table = sm.stats.anova_lm(model, typ=2)\n",
    "anova_table\n"
   ],
   "outputs": [
    {
     "output_type": "execute_result",
     "data": {
      "text/html": [
       "<div>\n",
       "<style scoped>\n",
       "    .dataframe tbody tr th:only-of-type {\n",
       "        vertical-align: middle;\n",
       "    }\n",
       "\n",
       "    .dataframe tbody tr th {\n",
       "        vertical-align: top;\n",
       "    }\n",
       "\n",
       "    .dataframe thead th {\n",
       "        text-align: right;\n",
       "    }\n",
       "</style>\n",
       "<table border=\"1\" class=\"dataframe\">\n",
       "  <thead>\n",
       "    <tr style=\"text-align: right;\">\n",
       "      <th></th>\n",
       "      <th>sum_sq</th>\n",
       "      <th>df</th>\n",
       "      <th>F</th>\n",
       "      <th>PR(&gt;F)</th>\n",
       "    </tr>\n",
       "  </thead>\n",
       "  <tbody>\n",
       "    <tr>\n",
       "      <th>treatments</th>\n",
       "      <td>23.4375</td>\n",
       "      <td>2.0</td>\n",
       "      <td>1.692708</td>\n",
       "      <td>0.222156</td>\n",
       "    </tr>\n",
       "    <tr>\n",
       "      <th>Residual</th>\n",
       "      <td>90.0000</td>\n",
       "      <td>13.0</td>\n",
       "      <td>NaN</td>\n",
       "      <td>NaN</td>\n",
       "    </tr>\n",
       "  </tbody>\n",
       "</table>\n",
       "</div>"
      ],
      "text/plain": [
       "             sum_sq    df         F    PR(>F)\n",
       "treatments  23.4375   2.0  1.692708  0.222156\n",
       "Residual    90.0000  13.0       NaN       NaN"
      ]
     },
     "metadata": {},
     "execution_count": 28
    },
    {
     "output_type": "display_data",
     "data": {
      "image/png": "[encoded data removed]",
      "text/plain": [
       "<Figure size 432x288 with 1 Axes>"
      ]
     },
     "metadata": {}
    },
    {
     "output_type": "display_data",
     "data": {
      "text/plain": [
       "<Figure size 432x288 with 0 Axes>"
      ]
     },
     "metadata": {}
    }
   ],
   "metadata": {}
  }
 ],
 "metadata": {
  "orig_nbformat": 4,
  "language_info": {
   "name": "python",
   "version": "3.8.10",
   "mimetype": "text/x-python",
   "codemirror_mode": {
    "name": "ipython",
    "version": 3
   },
   "pygments_lexer": "ipython3",
   "nbconvert_exporter": "python",
   "file_extension": ".py"
  },
  "kernelspec": {
   "name": "python3",
   "display_name": "Python 3.8.10 64-bit ('venv': venv)"
  },
  "interpreter": {
   "hash": "c26f9d25dee46902d7ebb58c3605029a2001933c665052a7d35932b2e3c8fe73"
  }
 },
 "nbformat": 4,
 "nbformat_minor": 2
}