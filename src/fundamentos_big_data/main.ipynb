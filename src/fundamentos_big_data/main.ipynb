{
 "cells": [
  {
   "cell_type": "markdown",
   "metadata": {},
   "source": [
    "<h1>Projeto de Fundamentos de Big Data</h1>\n"
   ]
  },
  {
   "cell_type": "markdown",
   "metadata": {},
   "source": [
    "<p>Carlos Magno Santos Ribeiro de Brito</p>\n",
    "<p>Dataset: Fraudulent Transactions Data</p>\n"
   ]
  },
  {
   "cell_type": "code",
   "execution_count": 1,
   "metadata": {},
   "outputs": [
    {
     "data": {
      "text/plain": [
       "(0.7490196078431373, 0.7333333333333333, 0.8509803921568627)"
      ]
     },
     "execution_count": 1,
     "metadata": {},
     "output_type": "execute_result"
    }
   ],
   "source": [
    "# libs import\n",
    "import pyspark\n",
    "from pyspark.sql import SparkSession\n",
    "from pyspark.sql.functions import when, col, when, count, isnan\n",
    "from pyspark.ml import Pipeline\n",
    "from pyspark.ml.classification import DecisionTreeClassifier, RandomForestClassifier, NaiveBayes\n",
    "from pyspark.ml.feature import StringIndexer, OneHotEncoder, VectorAssembler, StandardScaler\n",
    "from pyspark.ml.evaluation import MulticlassClassificationEvaluator\n",
    "import os\n",
    "import numpy as np\n",
    "import pandas as pd\n",
    "import matplotlib.pyplot as plt\n",
    "import matplotlib.ticker as mtick\n",
    "import matplotlib\n",
    "import seaborn as sns\n",
    "\n",
    "# set graph dark palette style\n",
    "plt.style.use('dark_background')\n",
    "sns.color_palette()[2]\n"
   ]
  },
  {
   "cell_type": "code",
   "execution_count": 2,
   "metadata": {},
   "outputs": [
    {
     "name": "stderr",
     "output_type": "stream",
     "text": [
      "22/05/15 15:35:03 WARN Utils: Your hostname, Carlos resolves to a loopback address: 127.0.1.1; using 172.23.97.230 instead (on interface eth0)\n",
      "22/05/15 15:35:03 WARN Utils: Set SPARK_LOCAL_IP if you need to bind to another address\n",
      "WARNING: An illegal reflective access operation has occurred\n",
      "WARNING: Illegal reflective access by org.apache.spark.unsafe.Platform (file:/home/carlos/carlos/ECD/python/venv/lib/python3.8/site-packages/pyspark/jars/spark-unsafe_2.12-3.2.1.jar) to constructor java.nio.DirectByteBuffer(long,int)\n",
      "WARNING: Please consider reporting this to the maintainers of org.apache.spark.unsafe.Platform\n",
      "WARNING: Use --illegal-access=warn to enable warnings of further illegal reflective access operations\n",
      "WARNING: All illegal access operations will be denied in a future release\n",
      "Using Spark's default log4j profile: org/apache/spark/log4j-defaults.properties\n",
      "Setting default log level to \"WARN\".\n",
      "To adjust logging level use sc.setLogLevel(newLevel). For SparkR, use setLogLevel(newLevel).\n",
      "22/05/15 15:35:04 WARN NativeCodeLoader: Unable to load native-hadoop library for your platform... using builtin-java classes where applicable\n"
     ]
    }
   ],
   "source": [
    "# Pyspark session:\n",
    "MAX_MEMORY_SIZE_ALOC = '10G'\n",
    "# Init pyspark session.\n",
    "conf = pyspark.SparkConf().setMaster(\"local[*]\") \\\n",
    "    .set('spark.executor.heartbeatInterval', 10000) \\\n",
    "    .set('spark.network.timeout', 10000) \\\n",
    "    .set(\"spark.core.connection.ack.wait.timeout\", \"3600\") \\\n",
    "    .set(\"spark.executor.memory\", MAX_MEMORY_SIZE_ALOC) \\\n",
    "    .set(\"spark.driver.memory\", MAX_MEMORY_SIZE_ALOC) \\\n",
    "    .set(\"spark.maxResultSize\", MAX_MEMORY_SIZE_ALOC)\n",
    "\n",
    "\n",
    "def init_spark():\n",
    "    spark = SparkSession \\\n",
    "        .builder \\\n",
    "        .appName(\"big_data_fundamentals\") \\\n",
    "        .config(conf=conf) \\\n",
    "        .getOrCreate()\n",
    "    return spark\n",
    "\n",
    "\n",
    "spark = init_spark()\n"
   ]
  },
  {
   "cell_type": "code",
   "execution_count": 3,
   "metadata": {},
   "outputs": [
    {
     "name": "stderr",
     "output_type": "stream",
     "text": [
      "[Stage 1:>                                                        (0 + 12) / 12]\r"
     ]
    },
    {
     "name": "stdout",
     "output_type": "stream",
     "text": [
      "root\n",
      " |-- step: integer (nullable = true)\n",
      " |-- type: string (nullable = true)\n",
      " |-- amount: double (nullable = true)\n",
      " |-- nameOrig: string (nullable = true)\n",
      " |-- oldbalanceOrg: double (nullable = true)\n",
      " |-- newbalanceOrig: double (nullable = true)\n",
      " |-- nameDest: string (nullable = true)\n",
      " |-- oldbalanceDest: double (nullable = true)\n",
      " |-- newbalanceDest: double (nullable = true)\n",
      " |-- isFraud: integer (nullable = true)\n",
      "\n"
     ]
    },
    {
     "name": "stderr",
     "output_type": "stream",
     "text": [
      "                                                                                \r"
     ]
    }
   ],
   "source": [
    "# read data\n",
    "data = spark.read.csv(os.path.abspath('./data/fraud.csv'),\n",
    "                      header=True, inferSchema=True)\n",
    "# set graph path\n",
    "GRAPHS_PATH = os.path.join(os.path.abspath('./graphs/'))\n",
    "\n",
    "\n",
    "os.makedirs(GRAPHS_PATH, exist_ok=True)\n",
    "data.printSchema()\n"
   ]
  },
  {
   "cell_type": "markdown",
   "metadata": {},
   "source": [
    "<h2> Dataset Information </h2>\n",
    "<h3>Develop a model for predicting fraudulent transactions for a financial company and use insights from the model to develop an actionable plan.</h3>\n",
    "<p><strong>step</strong>: maps a unit of time in the real world. In this case 1 step is 1 hour of time. Total steps 744 (30 days simulation).</p>\n",
    "<p><strong>type</strong>: CASH-IN, CASH-OUT, DEBIT, PAYMENT and TRANSFER.</p>\n",
    "<p><strong>amount</strong>: amount of the transaction in local currency.</p>\n",
    "<p><strong>nameOrig</strong>: customer who started the transaction.</p>\n",
    "<p><strong>oldbalanceOrg</strong>: initial balance before the transaction.</p>\n",
    "<p><strong>newbalanceOrig</strong>: new balance after the transaction.</p>\n",
    "<p><strong>nameDest</strong>: customer who is the recipient of the transaction.</p>\n",
    "<p><strong>oldbalanceDest</strong>: initial balance recipient before the transaction. Note that there is not information for customers that start with M.</p>\n",
    "<p><strong>newbalanceDest</strong>: new balance recipient after the transaction. Note that there is not information for customers that start with M.</p>\n",
    "<p><strong>isFraud</strong>: 1 if the transaction is fraudulent, 0 otherwise.</p>\n",
    "<p><strong>isFlaggedFraud</strong>: The business model aims to control massive transfers from one account to another and flags illegal attempts. An illegal attempt in this dataset is an attempt to transfer more than 200.000 in a single transaction.</p>\n"
   ]
  },
  {
   "cell_type": "code",
   "execution_count": 4,
   "metadata": {},
   "outputs": [
    {
     "name": "stdout",
     "output_type": "stream",
     "text": [
      "+----+--------+--------+-----------+-------------+--------------+-----------+--------------+--------------+-------+\n",
      "|step|    type|  amount|   nameOrig|oldbalanceOrg|newbalanceOrig|   nameDest|oldbalanceDest|newbalanceDest|isFraud|\n",
      "+----+--------+--------+-----------+-------------+--------------+-----------+--------------+--------------+-------+\n",
      "|   1| PAYMENT| 9839.64|C1231006815|     170136.0|     160296.36|M1979787155|           0.0|           0.0|      0|\n",
      "|   1| PAYMENT| 1864.28|C1666544295|      21249.0|      19384.72|M2044282225|           0.0|           0.0|      0|\n",
      "|   1|TRANSFER|   181.0|C1305486145|        181.0|           0.0| C553264065|           0.0|           0.0|      1|\n",
      "|   1|CASH_OUT|   181.0| C840083671|        181.0|           0.0|  C38997010|       21182.0|           0.0|      1|\n",
      "|   1| PAYMENT|11668.14|C2048537720|      41554.0|      29885.86|M1230701703|           0.0|           0.0|      0|\n",
      "+----+--------+--------+-----------+-------------+--------------+-----------+--------------+--------------+-------+\n",
      "only showing top 5 rows\n",
      "\n"
     ]
    }
   ],
   "source": [
    "# view the data\n",
    "data.show(5)\n"
   ]
  },
  {
   "cell_type": "code",
   "execution_count": 5,
   "metadata": {},
   "outputs": [
    {
     "name": "stderr",
     "output_type": "stream",
     "text": [
      "                                                                                \r"
     ]
    },
    {
     "data": {
      "text/html": [
       "<div>\n",
       "<style scoped>\n",
       "    .dataframe tbody tr th:only-of-type {\n",
       "        vertical-align: middle;\n",
       "    }\n",
       "\n",
       "    .dataframe tbody tr th {\n",
       "        vertical-align: top;\n",
       "    }\n",
       "\n",
       "    .dataframe thead th {\n",
       "        text-align: right;\n",
       "    }\n",
       "</style>\n",
       "<table border=\"1\" class=\"dataframe\">\n",
       "  <thead>\n",
       "    <tr style=\"text-align: right;\">\n",
       "      <th></th>\n",
       "      <th>summary</th>\n",
       "      <th>step</th>\n",
       "      <th>type</th>\n",
       "      <th>amount</th>\n",
       "      <th>nameOrig</th>\n",
       "      <th>oldbalanceOrg</th>\n",
       "      <th>newbalanceOrig</th>\n",
       "      <th>nameDest</th>\n",
       "      <th>oldbalanceDest</th>\n",
       "      <th>newbalanceDest</th>\n",
       "      <th>isFraud</th>\n",
       "    </tr>\n",
       "  </thead>\n",
       "  <tbody>\n",
       "    <tr>\n",
       "      <th>0</th>\n",
       "      <td>count</td>\n",
       "      <td>6362620</td>\n",
       "      <td>6362620</td>\n",
       "      <td>6362620</td>\n",
       "      <td>6362620</td>\n",
       "      <td>6362620</td>\n",
       "      <td>6362620</td>\n",
       "      <td>6362620</td>\n",
       "      <td>6362620</td>\n",
       "      <td>6362620</td>\n",
       "      <td>6362620</td>\n",
       "    </tr>\n",
       "    <tr>\n",
       "      <th>1</th>\n",
       "      <td>mean</td>\n",
       "      <td>243.39724563151657</td>\n",
       "      <td>None</td>\n",
       "      <td>179861.9035491319</td>\n",
       "      <td>None</td>\n",
       "      <td>833883.1040744886</td>\n",
       "      <td>855113.6685785907</td>\n",
       "      <td>None</td>\n",
       "      <td>1100701.6665196423</td>\n",
       "      <td>1224996.3982019203</td>\n",
       "      <td>0.001290820448180152</td>\n",
       "    </tr>\n",
       "    <tr>\n",
       "      <th>2</th>\n",
       "      <td>stddev</td>\n",
       "      <td>142.331971049129</td>\n",
       "      <td>None</td>\n",
       "      <td>603858.2314629348</td>\n",
       "      <td>None</td>\n",
       "      <td>2888242.673037558</td>\n",
       "      <td>2924048.502954268</td>\n",
       "      <td>None</td>\n",
       "      <td>3399180.112994467</td>\n",
       "      <td>3674128.94211965</td>\n",
       "      <td>0.035904796801604175</td>\n",
       "    </tr>\n",
       "    <tr>\n",
       "      <th>3</th>\n",
       "      <td>min</td>\n",
       "      <td>1</td>\n",
       "      <td>CASH_IN</td>\n",
       "      <td>0.0</td>\n",
       "      <td>C1000000639</td>\n",
       "      <td>0.0</td>\n",
       "      <td>0.0</td>\n",
       "      <td>C1000004082</td>\n",
       "      <td>0.0</td>\n",
       "      <td>0.0</td>\n",
       "      <td>0</td>\n",
       "    </tr>\n",
       "    <tr>\n",
       "      <th>4</th>\n",
       "      <td>max</td>\n",
       "      <td>743</td>\n",
       "      <td>TRANSFER</td>\n",
       "      <td>9.244551664E7</td>\n",
       "      <td>C999999784</td>\n",
       "      <td>5.958504037E7</td>\n",
       "      <td>4.958504037E7</td>\n",
       "      <td>M999999784</td>\n",
       "      <td>3.5601588935E8</td>\n",
       "      <td>3.5617927892E8</td>\n",
       "      <td>1</td>\n",
       "    </tr>\n",
       "  </tbody>\n",
       "</table>\n",
       "</div>"
      ],
      "text/plain": [
       "  summary                step      type             amount     nameOrig  \\\n",
       "0   count             6362620   6362620            6362620      6362620   \n",
       "1    mean  243.39724563151657      None  179861.9035491319         None   \n",
       "2  stddev    142.331971049129      None  603858.2314629348         None   \n",
       "3     min                   1   CASH_IN                0.0  C1000000639   \n",
       "4     max                 743  TRANSFER      9.244551664E7   C999999784   \n",
       "\n",
       "       oldbalanceOrg     newbalanceOrig     nameDest      oldbalanceDest  \\\n",
       "0            6362620            6362620      6362620             6362620   \n",
       "1  833883.1040744886  855113.6685785907         None  1100701.6665196423   \n",
       "2  2888242.673037558  2924048.502954268         None   3399180.112994467   \n",
       "3                0.0                0.0  C1000004082                 0.0   \n",
       "4      5.958504037E7      4.958504037E7   M999999784      3.5601588935E8   \n",
       "\n",
       "       newbalanceDest               isFraud  \n",
       "0             6362620               6362620  \n",
       "1  1224996.3982019203  0.001290820448180152  \n",
       "2    3674128.94211965  0.035904796801604175  \n",
       "3                 0.0                     0  \n",
       "4      3.5617927892E8                     1  "
      ]
     },
     "execution_count": 5,
     "metadata": {},
     "output_type": "execute_result"
    }
   ],
   "source": [
    "data.describe().toPandas()\n"
   ]
  },
  {
   "cell_type": "markdown",
   "metadata": {},
   "source": [
    "<h3>Variables exploration</h3>\n"
   ]
  },
  {
   "cell_type": "code",
   "execution_count": 6,
   "metadata": {},
   "outputs": [
    {
     "name": "stderr",
     "output_type": "stream",
     "text": [
      "                                                                                \r"
     ]
    },
    {
     "name": "stdout",
     "output_type": "stream",
     "text": [
      "Col amount -> Empty values: 0\n"
     ]
    },
    {
     "name": "stderr",
     "output_type": "stream",
     "text": [
      "                                                                                \r"
     ]
    },
    {
     "name": "stdout",
     "output_type": "stream",
     "text": [
      "Col oldbalanceOrg -> Empty values: 0\n"
     ]
    },
    {
     "name": "stderr",
     "output_type": "stream",
     "text": [
      "                                                                                \r"
     ]
    },
    {
     "name": "stdout",
     "output_type": "stream",
     "text": [
      "Col newbalanceOrig -> Empty values: 0\n"
     ]
    },
    {
     "name": "stderr",
     "output_type": "stream",
     "text": [
      "                                                                                \r"
     ]
    },
    {
     "name": "stdout",
     "output_type": "stream",
     "text": [
      "Col oldbalanceDest -> Empty values: 0\n"
     ]
    },
    {
     "name": "stderr",
     "output_type": "stream",
     "text": [
      "                                                                                \r"
     ]
    },
    {
     "name": "stdout",
     "output_type": "stream",
     "text": [
      "Col newbalanceDest -> Empty values: 0\n"
     ]
    },
    {
     "name": "stderr",
     "output_type": "stream",
     "text": [
      "                                                                                \r"
     ]
    },
    {
     "name": "stdout",
     "output_type": "stream",
     "text": [
      "Col type -> Empty values: 0 \n",
      " Col type -> Distinct values: [Row(type='TRANSFER'), Row(type='CASH_IN'), Row(type='CASH_OUT'), Row(type='PAYMENT'), Row(type='DEBIT')]\n"
     ]
    },
    {
     "name": "stderr",
     "output_type": "stream",
     "text": [
      "[Stage 30:>                                                       (0 + 12) / 12]\r"
     ]
    },
    {
     "name": "stdout",
     "output_type": "stream",
     "text": [
      "Col isFraud -> Empty values: 0 \n",
      " Col isFraud -> Distinct values: [Row(isFraud=1), Row(isFraud=0)]\n"
     ]
    },
    {
     "name": "stderr",
     "output_type": "stream",
     "text": [
      "                                                                                \r"
     ]
    }
   ],
   "source": [
    "def categoricalExplore(column):\n",
    "    distinctVal = data.select(column).distinct().collect()\n",
    "    emptyValues = data.where(col(column).isNull()).count()\n",
    "    print(f'Col {column} -> Empty values: {emptyValues} \\n Col {column} -> Distinct values: {distinctVal}')\n",
    "\n",
    "\n",
    "def numericalExplore(column):\n",
    "    emptyValues = data.where(isnan(column)).count()\n",
    "    print(f'Col {column} -> Empty values: {emptyValues}')\n",
    "\n",
    "\n",
    "# Numerical:\n",
    "numericalExplore('amount')\n",
    "numericalExplore('oldbalanceOrg')\n",
    "numericalExplore('newbalanceOrig')\n",
    "numericalExplore('oldbalanceDest')\n",
    "numericalExplore('newbalanceDest')\n",
    "\n",
    "# Categorical\n",
    "categoricalExplore('type')\n",
    "categoricalExplore('isFraud')\n"
   ]
  },
  {
   "cell_type": "markdown",
   "metadata": {},
   "source": [
    "<p>1 - There are two categorical variables to analyze: isFraud and type;</p>\n",
    "<p>2 - The 5 main numeric variables to use are: amount, oldbalanceOrg, newbalanceOrig, oldbalanceDest and newbalanceDest;</p>\n"
   ]
  },
  {
   "cell_type": "markdown",
   "metadata": {},
   "source": [
    "<h3>Payment type view</h3>\n"
   ]
  },
  {
   "cell_type": "code",
   "execution_count": 7,
   "metadata": {},
   "outputs": [
    {
     "name": "stderr",
     "output_type": "stream",
     "text": [
      "                                                                                \r"
     ]
    },
    {
     "data": {
      "text/plain": [
       "Text(0.5, 1.0, 'Quantity x Payment type')"
      ]
     },
     "execution_count": 7,
     "metadata": {},
     "output_type": "execute_result"
    },
    {
     "data": {
      "image/png": "[encoded data removed]",
      "text/plain": [
       "<Figure size 432x288 with 1 Axes>"
      ]
     },
     "metadata": {},
     "output_type": "display_data"
    }
   ],
   "source": [
    "paymentTypeData = data.select(data.type).groupBy(data.type).count().toPandas()\n",
    "\n",
    "ax = paymentTypeData.plot.bar(x='type', y='count', legend=False)\n",
    "ax.set_ylabel('Qty')\n",
    "ax.set_xlabel('Payment type')\n",
    "ax.bar_label(ax.containers[0])\n",
    "plt.title('Quantity x Payment type')\n"
   ]
  },
  {
   "cell_type": "markdown",
   "metadata": {},
   "source": [
    "cash out is the most common payment type.\n"
   ]
  },
  {
   "cell_type": "markdown",
   "metadata": {},
   "source": [
    "<h3>is Fraud view</h3>\n"
   ]
  },
  {
   "cell_type": "code",
   "execution_count": 8,
   "metadata": {},
   "outputs": [
    {
     "name": "stderr",
     "output_type": "stream",
     "text": [
      "                                                                                \r"
     ]
    },
    {
     "data": {
      "text/plain": [
       "[Text(0, 0, '8213'), Text(0, 0, '6.35441e+06')]"
      ]
     },
     "execution_count": 8,
     "metadata": {},
     "output_type": "execute_result"
    },
    {
     "data": {
      "image/png": "[encoded data removed]",
      "text/plain": [
       "<Figure size 432x288 with 1 Axes>"
      ]
     },
     "metadata": {},
     "output_type": "display_data"
    }
   ],
   "source": [
    "isFraudData = data.select(data.isFraud).groupBy(\n",
    "    data.isFraud).count().toPandas()\n",
    "\n",
    "ax = isFraudData.plot.bar(x='isFraud', y='count', legend=False)\n",
    "ax.set_ylabel('Qty')\n",
    "ax.bar_label(ax.containers[0])\n"
   ]
  },
  {
   "cell_type": "markdown",
   "metadata": {},
   "source": [
    "Target Variable is highly Imbalanced.\n"
   ]
  },
  {
   "cell_type": "code",
   "execution_count": 9,
   "metadata": {},
   "outputs": [
    {
     "name": "stderr",
     "output_type": "stream",
     "text": [
      "[Stage 42:>                                                       (0 + 12) / 12]\r"
     ]
    },
    {
     "name": "stdout",
     "output_type": "stream",
     "text": [
      "Fraud detect => 8213\n",
      "Fraud not detect => 6354407\n"
     ]
    },
    {
     "name": "stderr",
     "output_type": "stream",
     "text": [
      "                                                                                \r"
     ]
    }
   ],
   "source": [
    "isFraud = data.where(col('isFraud') == 1).count()\n",
    "isNotFraud = data.where(col('isFraud') == 0).count()\n",
    "print(f'Fraud detect => {isFraud}')\n",
    "print(f'Fraud not detect => {isNotFraud}')\n"
   ]
  },
  {
   "cell_type": "code",
   "execution_count": 10,
   "metadata": {},
   "outputs": [
    {
     "name": "stderr",
     "output_type": "stream",
     "text": [
      "                                                                                \r"
     ]
    },
    {
     "name": "stdout",
     "output_type": "stream",
     "text": [
      "+----+--------+--------+-----------+-------------+--------------+-----------+--------------+--------------+-------+---------+\n",
      "|step|    type|  amount|   nameOrig|oldbalanceOrg|newbalanceOrig|   nameDest|oldbalanceDest|newbalanceDest|isFraud|typeIndex|\n",
      "+----+--------+--------+-----------+-------------+--------------+-----------+--------------+--------------+-------+---------+\n",
      "|   1| PAYMENT| 9839.64|C1231006815|     170136.0|     160296.36|M1979787155|           0.0|           0.0|      0|      1.0|\n",
      "|   1| PAYMENT| 1864.28|C1666544295|      21249.0|      19384.72|M2044282225|           0.0|           0.0|      0|      1.0|\n",
      "|   1|TRANSFER|   181.0|C1305486145|        181.0|           0.0| C553264065|           0.0|           0.0|      1|      3.0|\n",
      "|   1|CASH_OUT|   181.0| C840083671|        181.0|           0.0|  C38997010|       21182.0|           0.0|      1|      0.0|\n",
      "|   1| PAYMENT|11668.14|C2048537720|      41554.0|      29885.86|M1230701703|           0.0|           0.0|      0|      1.0|\n",
      "+----+--------+--------+-----------+-------------+--------------+-----------+--------------+--------------+-------+---------+\n",
      "only showing top 5 rows\n",
      "\n",
      "root\n",
      " |-- step: integer (nullable = true)\n",
      " |-- type: string (nullable = true)\n",
      " |-- amount: double (nullable = true)\n",
      " |-- nameOrig: string (nullable = true)\n",
      " |-- oldbalanceOrg: double (nullable = true)\n",
      " |-- newbalanceOrig: double (nullable = true)\n",
      " |-- nameDest: string (nullable = true)\n",
      " |-- oldbalanceDest: double (nullable = true)\n",
      " |-- newbalanceDest: double (nullable = true)\n",
      " |-- isFraud: integer (nullable = true)\n",
      " |-- typeIndex: double (nullable = false)\n",
      "\n"
     ]
    }
   ],
   "source": [
    "# Convert payment type to numeric values:\n",
    "typeIndexer = StringIndexer(inputCol='type', outputCol='typeIndex')\n",
    "typeEncoder = OneHotEncoder(inputCol='typeIndexer', outputCol='typeEncoder')\n",
    "indexed = typeIndexer.fit(data).transform(data)\n",
    "\n",
    "indexed.show(5)\n",
    "indexed.printSchema()\n"
   ]
  },
  {
   "cell_type": "markdown",
   "metadata": {},
   "source": [
    "<h2>Apply machine leaning methods and compare the results</h2>\n"
   ]
  },
  {
   "cell_type": "code",
   "execution_count": 11,
   "metadata": {},
   "outputs": [],
   "source": [
    "assembler = VectorAssembler(inputCols=['amount', 'newbalanceOrig', 'oldbalanceOrg',\n",
    "                            'oldbalanceDest', 'newbalanceDest', 'isFraud'], outputCol='features')\n",
    "sc = StandardScaler(inputCol=\"features\", outputCol=\"standardFeatures\")\n"
   ]
  },
  {
   "cell_type": "code",
   "execution_count": 12,
   "metadata": {},
   "outputs": [],
   "source": [
    "# Classification models:\n",
    "\n",
    "# Naive Bayes:\n",
    "nb = NaiveBayes(featuresCol='standardFeatures', labelCol='typeIndex')\n",
    "pipe1 = Pipeline(stages=[assembler,\n",
    "                        sc,\n",
    "                        nb])\n",
    "# Random Forest:\n",
    "rf = RandomForestClassifier(\n",
    "    featuresCol='standardFeatures', labelCol='typeIndex')\n",
    "pipe2 = Pipeline(stages=[assembler,\n",
    "                        sc,\n",
    "                        rf])\n",
    "\n",
    "# Decision Tree:\n",
    "dt = DecisionTreeClassifier(\n",
    "    featuresCol='standardFeatures', labelCol='typeIndex')\n",
    "pipe3 = Pipeline(stages=[assembler,\n",
    "                        sc,\n",
    "                        dt])\n"
   ]
  },
  {
   "cell_type": "code",
   "execution_count": 13,
   "metadata": {},
   "outputs": [
    {
     "name": "stderr",
     "output_type": "stream",
     "text": [
      "                                                                                \r"
     ]
    },
    {
     "name": "stdout",
     "output_type": "stream",
     "text": [
      "Naive Bayes accuracy 0.6057303437891938\n"
     ]
    },
    {
     "name": "stderr",
     "output_type": "stream",
     "text": [
      "                                                                                \r"
     ]
    },
    {
     "name": "stdout",
     "output_type": "stream",
     "text": [
      "Random forest accuracy: 0.9163583555202103\n"
     ]
    },
    {
     "name": "stderr",
     "output_type": "stream",
     "text": [
      "[Stage 93:===================>                                     (4 + 8) / 12]\r"
     ]
    },
    {
     "name": "stdout",
     "output_type": "stream",
     "text": [
      "Decision Tree accuracy: 0.9187171322505508\n"
     ]
    },
    {
     "name": "stderr",
     "output_type": "stream",
     "text": [
      "                                                                                \r"
     ]
    }
   ],
   "source": [
    "\n",
    "# train and test split\n",
    "train, test = indexed.randomSplit([0.7, 0.3], seed=2)\n",
    "\n",
    "# evaluation metric\n",
    "evaluation_metric = MulticlassClassificationEvaluator(\n",
    "    predictionCol='prediction', labelCol='typeIndex')\n",
    "\n",
    "\n",
    "\n",
    "def models(pipeline):\n",
    "    model = pipeline.fit(train)\n",
    "    predTarget = model.transform(indexed).select('typeIndex', 'prediction')\n",
    "    acc = evaluation_metric.evaluate(\n",
    "        predTarget, {evaluation_metric.metricName: \"accuracy\"})\n",
    "    return acc\n",
    "\n",
    "\n",
    "# Results:\n",
    "acur = models(pipe1)\n",
    "print(f'Naive Bayes accuracy {acur}')\n",
    "acur = models(pipe2)\n",
    "print(f'Random forest accuracy: {acur}')\n",
    "acur = models(pipe3)\n",
    "print(f'Decision Tree accuracy: {acur}')\n"
   ]
  },
  {
   "cell_type": "markdown",
   "metadata": {},
   "source": [
    "\n",
    "<h2>Among the three models used for classification, the decision tree model was the one with the highest accuracy.</h2>"
   ]
  }
 ],
 "metadata": {
  "interpreter": {
   "hash": "c90e8bf577a58230f6eb2e92b84586e9499d79f6918da5df8f2508b499d068de"
  },
  "kernelspec": {
   "display_name": "Python 3.8.10 64-bit ('venv': venv)",
   "language": "python",
   "name": "python3"
  },
  "language_info": {
   "codemirror_mode": {
    "name": "ipython",
    "version": 3
   },
   "file_extension": ".py",
   "mimetype": "text/x-python",
   "name": "python",
   "nbconvert_exporter": "python",
   "pygments_lexer": "ipython3",
   "version": "3.8.10"
  },
  "orig_nbformat": 4
 },
 "nbformat": 4,
 "nbformat_minor": 2
}
