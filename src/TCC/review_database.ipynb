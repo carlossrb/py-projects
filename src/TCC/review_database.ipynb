{
 "cells": [
  {
   "cell_type": "markdown",
   "metadata": {},
   "source": [
    "<h1>Para começar, importa-se as libs necessárias para os procedimentos de data cleaning juntamente com o dataframe de reviews</h1>"
   ]
  },
  {
   "cell_type": "code",
   "execution_count": 23,
   "metadata": {},
   "outputs": [],
   "source": [
    "import pandas as pd\n",
    "from os.path import abspath\n",
    "import os\n",
    "\n",
    "# Remove o arquivo final caso ele exista no diretório dos databases\n",
    "try:\n",
    "    pd.read_csv(abspath('./data/data_cat.gen.csv'))\n",
    "    pd.read_csv(abspath('./data/data_bin.gen.csv'))\n",
    "except:\n",
    "    print(\"Não existe os arquivos gen.csv\")\n",
    "else:\n",
    "    os.remove(abspath('./data/data_cat.gen.csv'))\n",
    "    os.remove(abspath('./data/data_bin.gen.csv'))\n",
    "\n",
    "reviews = pd.read_csv(abspath('./data/olist_order_reviews_dataset.csv'))\n"
   ]
  },
  {
   "cell_type": "markdown",
   "metadata": {},
   "source": [
    "<h2>Cria-se função para obter demais informações dos dados</h2>\n"
   ]
  },
  {
   "cell_type": "code",
   "execution_count": 24,
   "metadata": {},
   "outputs": [],
   "source": [
    "def dfOverview(dataframe):\n",
    "    \"\"\"This function will return the overview of the dataframe\"\"\"\n",
    "\n",
    "    print(\"O tamanho do dataframe é (linha, coluna): {}\".format(dataframe.shape))\n",
    "    print(\"**\"*30)\n",
    "    print(\"Número total de valores nulos: \\n \", dataframe.isnull().sum())\n",
    "    print(\"**\"*30)\n",
    "\n",
    "    return dataframe.head()\n"
   ]
  },
  {
   "cell_type": "markdown",
   "metadata": {},
   "source": [
    "<h2>Por exemplo, pode-se analisar os dados da base de reviews:</h2>"
   ]
  },
  {
   "cell_type": "code",
   "execution_count": 25,
   "metadata": {},
   "outputs": [
    {
     "name": "stdout",
     "output_type": "stream",
     "text": [
      "O tamanho do dataframe é (linha, coluna): (100000, 7)\n",
      "************************************************************\n",
      "Número total de valores nulos: \n",
      "  review_id                      0\n",
      "order_id                       0\n",
      "review_score                   0\n",
      "review_comment_title       88285\n",
      "review_comment_message     58247\n",
      "review_creation_date           0\n",
      "review_answer_timestamp        0\n",
      "dtype: int64\n",
      "************************************************************\n"
     ]
    },
    {
     "data": {
      "text/html": [
       "<div>\n",
       "<style scoped>\n",
       "    .dataframe tbody tr th:only-of-type {\n",
       "        vertical-align: middle;\n",
       "    }\n",
       "\n",
       "    .dataframe tbody tr th {\n",
       "        vertical-align: top;\n",
       "    }\n",
       "\n",
       "    .dataframe thead th {\n",
       "        text-align: right;\n",
       "    }\n",
       "</style>\n",
       "<table border=\"1\" class=\"dataframe\">\n",
       "  <thead>\n",
       "    <tr style=\"text-align: right;\">\n",
       "      <th></th>\n",
       "      <th>review_id</th>\n",
       "      <th>order_id</th>\n",
       "      <th>review_score</th>\n",
       "      <th>review_comment_title</th>\n",
       "      <th>review_comment_message</th>\n",
       "      <th>review_creation_date</th>\n",
       "      <th>review_answer_timestamp</th>\n",
       "    </tr>\n",
       "  </thead>\n",
       "  <tbody>\n",
       "    <tr>\n",
       "      <th>0</th>\n",
       "      <td>7bc2406110b926393aa56f80a40eba40</td>\n",
       "      <td>73fc7af87114b39712e6da79b0a377eb</td>\n",
       "      <td>4</td>\n",
       "      <td>NaN</td>\n",
       "      <td>NaN</td>\n",
       "      <td>2018-01-18 00:00:00</td>\n",
       "      <td>2018-01-18 21:46:59</td>\n",
       "    </tr>\n",
       "    <tr>\n",
       "      <th>1</th>\n",
       "      <td>80e641a11e56f04c1ad469d5645fdfde</td>\n",
       "      <td>a548910a1c6147796b98fdf73dbeba33</td>\n",
       "      <td>5</td>\n",
       "      <td>NaN</td>\n",
       "      <td>NaN</td>\n",
       "      <td>2018-03-10 00:00:00</td>\n",
       "      <td>2018-03-11 03:05:13</td>\n",
       "    </tr>\n",
       "    <tr>\n",
       "      <th>2</th>\n",
       "      <td>228ce5500dc1d8e020d8d1322874b6f0</td>\n",
       "      <td>f9e4b658b201a9f2ecdecbb34bed034b</td>\n",
       "      <td>5</td>\n",
       "      <td>NaN</td>\n",
       "      <td>NaN</td>\n",
       "      <td>2018-02-17 00:00:00</td>\n",
       "      <td>2018-02-18 14:36:24</td>\n",
       "    </tr>\n",
       "    <tr>\n",
       "      <th>3</th>\n",
       "      <td>e64fb393e7b32834bb789ff8bb30750e</td>\n",
       "      <td>658677c97b385a9be170737859d3511b</td>\n",
       "      <td>5</td>\n",
       "      <td>NaN</td>\n",
       "      <td>Recebi bem antes do prazo estipulado.</td>\n",
       "      <td>2017-04-21 00:00:00</td>\n",
       "      <td>2017-04-21 22:02:06</td>\n",
       "    </tr>\n",
       "    <tr>\n",
       "      <th>4</th>\n",
       "      <td>f7c4243c7fe1938f181bec41a392bdeb</td>\n",
       "      <td>8e6bfb81e283fa7e4f11123a3fb894f1</td>\n",
       "      <td>5</td>\n",
       "      <td>NaN</td>\n",
       "      <td>Parabéns lojas lannister adorei comprar pela I...</td>\n",
       "      <td>2018-03-01 00:00:00</td>\n",
       "      <td>2018-03-02 10:26:53</td>\n",
       "    </tr>\n",
       "  </tbody>\n",
       "</table>\n",
       "</div>"
      ],
      "text/plain": [
       "                          review_id                          order_id  \\\n",
       "0  7bc2406110b926393aa56f80a40eba40  73fc7af87114b39712e6da79b0a377eb   \n",
       "1  80e641a11e56f04c1ad469d5645fdfde  a548910a1c6147796b98fdf73dbeba33   \n",
       "2  228ce5500dc1d8e020d8d1322874b6f0  f9e4b658b201a9f2ecdecbb34bed034b   \n",
       "3  e64fb393e7b32834bb789ff8bb30750e  658677c97b385a9be170737859d3511b   \n",
       "4  f7c4243c7fe1938f181bec41a392bdeb  8e6bfb81e283fa7e4f11123a3fb894f1   \n",
       "\n",
       "   review_score review_comment_title  \\\n",
       "0             4                  NaN   \n",
       "1             5                  NaN   \n",
       "2             5                  NaN   \n",
       "3             5                  NaN   \n",
       "4             5                  NaN   \n",
       "\n",
       "                              review_comment_message review_creation_date  \\\n",
       "0                                                NaN  2018-01-18 00:00:00   \n",
       "1                                                NaN  2018-03-10 00:00:00   \n",
       "2                                                NaN  2018-02-17 00:00:00   \n",
       "3              Recebi bem antes do prazo estipulado.  2017-04-21 00:00:00   \n",
       "4  Parabéns lojas lannister adorei comprar pela I...  2018-03-01 00:00:00   \n",
       "\n",
       "  review_answer_timestamp  \n",
       "0     2018-01-18 21:46:59  \n",
       "1     2018-03-11 03:05:13  \n",
       "2     2018-02-18 14:36:24  \n",
       "3     2017-04-21 22:02:06  \n",
       "4     2018-03-02 10:26:53  "
      ]
     },
     "execution_count": 25,
     "metadata": {},
     "output_type": "execute_result"
    }
   ],
   "source": [
    "dfOverview(reviews)"
   ]
  },
  {
   "cell_type": "markdown",
   "metadata": {},
   "source": [
    "<h2><strong>Observações<strong></h2>\n",
    "\n",
    "\n",
    "<ul>\n",
    "<li>Valores nulos se fazem presentes no dataframe de reviews;</li>\n",
    "</ul>"
   ]
  },
  {
   "cell_type": "markdown",
   "metadata": {},
   "source": [
    "<p>Separa-se dois datasets contendo informações dos comentários dos clientes (review_comment_message) e da sua nota de avaliação (review_score). Para o data_bin tem-se comentários associados categoricamente (0 e 1) a partir de intervalor de notas (0,2] e (2, 5] e no data_cat tem-se apenas os comentários e os reviews numéricos de 0 a 5. Ambas as bases são removidos valores nulos</p>"
   ]
  },
  {
   "cell_type": "code",
   "execution_count": 26,
   "metadata": {},
   "outputs": [
    {
     "name": "stdout",
     "output_type": "stream",
     "text": [
      "data_bin ==> A quantidade de linhas totais apos remoção de nulos e adequação:  41753\n",
      "data_cat ==> A quantidade de linhas totais apos remoção de nulos e adequação:  41753\n",
      "Havia cerca de: 58.247 % de dados nulos no dataset\n"
     ]
    },
    {
     "name": "stderr",
     "output_type": "stream",
     "text": [
      "/home/carlos/carlos/ECD/python/venv/lib/python3.8/site-packages/pandas/core/frame.py:3607: SettingWithCopyWarning: \n",
      "A value is trying to be set on a copy of a slice from a DataFrame.\n",
      "Try using .loc[row_indexer,col_indexer] = value instead\n",
      "\n",
      "See the caveats in the documentation: https://pandas.pydata.org/pandas-docs/stable/user_guide/indexing.html#returning-a-view-versus-a-copy\n",
      "  self._set_item(key, value)\n"
     ]
    },
    {
     "data": {
      "text/plain": [
       "text     0\n",
       "label    0\n",
       "dtype: int64"
      ]
     },
     "execution_count": 26,
     "metadata": {},
     "output_type": "execute_result"
    }
   ],
   "source": [
    "def clean_data(data, column_text='review_comment_message',\n",
    "               column_score='review_score',\n",
    "               points_cut=[0, 2, 5],\n",
    "               classes=[0, 1]):\n",
    "\n",
    "    df_bin = data\n",
    "    df_bin = df_bin.dropna(subset=[column_text])\n",
    "    df_bin['label'] = pd.cut(df_bin[column_score],\n",
    "                             bins=points_cut, labels=classes)\n",
    "    df_bin = df_bin.rename(columns={column_text: 'text'})\n",
    "    df_bin = df_bin[['text', 'label']]\n",
    "    print('data_bin ==> A quantidade de linhas totais apos remoção de nulos e adequação: ',\n",
    "          df_bin.shape[0])\n",
    "          \n",
    "    df_cat = data\n",
    "    df_cat = df_cat.dropna(subset=[column_text])\n",
    "    df_cat = df_cat.rename(\n",
    "        columns={column_text: 'text', column_score: 'label'})\n",
    "    df_cat = df_cat[['text', 'label']]\n",
    "    print('data_cat ==> A quantidade de linhas totais apos remoção de nulos e adequação: ',\n",
    "          df_cat.shape[0])\n",
    "    print('Havia cerca de:', round(\n",
    "        (data.shape[0] - df_cat.shape[0])*100/data.shape[0], 3),\"% de dados nulos no dataset\")\n",
    "    return df_bin, df_cat\n",
    "\n",
    "\n",
    "data_bin, data_cat = clean_data(reviews)\n",
    "data_cat.isnull().sum()\n",
    "data_bin.isnull().sum()\n"
   ]
  },
  {
   "cell_type": "markdown",
   "metadata": {},
   "source": [
    "<h2>Por fim, salvamos os dados em dois novos arquivos .csv</h2>"
   ]
  },
  {
   "cell_type": "code",
   "execution_count": 27,
   "metadata": {},
   "outputs": [],
   "source": [
    "data_bin.to_csv(abspath(\"data/data_bin.gen.csv\"), index=False)\n",
    "data_cat.to_csv(abspath(\"data/data_cat.gen.csv\"), index=False)\n"
   ]
  }
 ],
 "metadata": {
  "kernelspec": {
   "display_name": "Python 3.8.10 ('venv': venv)",
   "language": "python",
   "name": "python3"
  },
  "language_info": {
   "codemirror_mode": {
    "name": "ipython",
    "version": 3
   },
   "file_extension": ".py",
   "mimetype": "text/x-python",
   "name": "python",
   "nbconvert_exporter": "python",
   "pygments_lexer": "ipython3",
   "version": "3.8.10"
  },
  "orig_nbformat": 4,
  "vscode": {
   "interpreter": {
    "hash": "c90e8bf577a58230f6eb2e92b84586e9499d79f6918da5df8f2508b499d068de"
   }
  }
 },
 "nbformat": 4,
 "nbformat_minor": 2
}
