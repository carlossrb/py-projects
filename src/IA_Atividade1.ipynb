{
  "nbformat": 4,
  "nbformat_minor": 0,
  "metadata": {
    "colab": {
      "name": "IA_Atividade1.ipynb",
      "provenance": [],
      "collapsed_sections": []
    },
    "kernelspec": {
      "name": "python3",
      "display_name": "Python 3"
    },
    "language_info": {
      "name": "python"
    }
  },
  "cells": [
    {
      "cell_type": "markdown",
      "source": [
        "**Introdução à Inteligencia Artificial**\n",
        "\n",
        "Atividade 1\n",
        "\n",
        "Alunos: Márcio Alexandre Silva Monteiro, Carlos Magno, Gregory"
      ],
      "metadata": {
        "id": "UcjuF0jGt0ko"
      }
    },
    {
      "cell_type": "markdown",
      "source": [
        "**Questão 01 e 03**"
      ],
      "metadata": {
        "id": "hB3Oqo3O8PRT"
      }
    },
    {
      "cell_type": "markdown",
      "source": [
        "Para a modelagem do problema, tem-se as funções do problema definidas como: \n",
        "\\begin{equation}\n",
        "\\begin{cases}\n",
        "2x+y=80\\\\\n",
        "Area = xy\n",
        "\\end{cases}\n",
        "\\end{equation}\n",
        "\n",
        "Assim sendo, a equação geral definidora do problema $f(x)=80x-2x^2$. A primeira derivada dessa função é o ponto de máximo (ou mínimo do problema). Para esse caso, tem-se então uma única derivada para ela: $f'(x)=80-4x$\n",
        "Ao considerar o modo do gradiente como $x_{k+1}=x_k-\\alpha_k\\nabla f(x_k)$, e um problema de minimização (tangente no mínimo), a equação a ser solucionada será $x_{k+1}=x_k-\\alpha_k(-80+4x)$. "
      ],
      "metadata": {
        "id": "0F3_jC1l51xZ"
      }
    },
    {
      "cell_type": "code",
      "source": [
        "x_k_q01 = lambda x, alpha: x - alpha * (-80 +4*x)"
      ],
      "metadata": {
        "id": "uAT5mVeKfouI"
      },
      "execution_count": null,
      "outputs": []
    },
    {
      "cell_type": "code",
      "source": [
        "# libs\n",
        "import matplotlib.pyplot as plt\n",
        "import numpy as np\n",
        "import seaborn as sns\n",
        "import math\n",
        "\n",
        "diff = 0.000001 #diferenca para convergencia (global)\n",
        "pi = math.pi\n",
        "# define dark background pros graficos\n",
        "plt.style.use('dark_background')\n",
        "sns.color_palette()[1]"
      ],
      "metadata": {
        "colab": {
          "base_uri": "https://localhost:8080/"
        },
        "id": "KA0bxUJ5lGyM",
        "outputId": "7e4bc6dc-9570-424a-fb5d-8d623b48ec0b"
      },
      "execution_count": null,
      "outputs": [
        {
          "output_type": "execute_result",
          "data": {
            "text/plain": [
              "(0.996078431372549, 1.0, 0.7019607843137254)"
            ]
          },
          "metadata": {},
          "execution_count": 2
        }
      ]
    },
    {
      "cell_type": "markdown",
      "source": [
        "Para o cálculo de x, consideremos o algoritmo:"
      ],
      "metadata": {
        "id": "EbWxNO_7uwbn"
      }
    },
    {
      "cell_type": "code",
      "source": [
        "# alpha = alpha_k \n",
        "# grad = funcao gradiente a ser calculada\n",
        "# x0 = Valor inicial de x\n",
        "# f_x = qualquer funcao dependente de x\n",
        "def calculateGrad(alpha, grad, x0, f_x = lambda x: x):\n",
        "  y_points = list()\n",
        "  x_points = list()\n",
        "  y = 0\n",
        "  x = x0\n",
        "  convergence = diff\n",
        "  while convergence >= diff:\n",
        "    x_points.append(x)\n",
        "    y_points.append(y)\n",
        "    xk = grad(x, alpha)\n",
        "    convergence = xk-x\n",
        "    x = xk\n",
        "    y = f_x(x)\n",
        "  return len(x_points), x, y, [x_points, y_points]"
      ],
      "metadata": {
        "id": "Mh1yGT_eIjSp"
      },
      "execution_count": null,
      "outputs": []
    },
    {
      "cell_type": "markdown",
      "source": [
        "Para a derivada $f'(x)=-80+4x$, aplica-se então:"
      ],
      "metadata": {
        "id": "MjSscd5DaUrn"
      }
    },
    {
      "cell_type": "code",
      "source": [
        "i, x, y, [pointsx, _] = calculateGrad(0.01, x_k_q01, 0, lambda x: 80-2*x)\n",
        "print('Valor final de x após {} iterações é {} m'.format(i, x))\n",
        "print('Valor final de y após {} iterações é {} m'.format(i, y))\n",
        "print('O custo final após {} iterações é {:.2f} R$'.format(i, 80*x -2*x*x))\n"
      ],
      "metadata": {
        "colab": {
          "base_uri": "https://localhost:8080/"
        },
        "id": "dLWJzhnrbLRE",
        "outputId": "c856f4f2-62a5-458a-e13d-a85f40442908"
      },
      "execution_count": null,
      "outputs": [
        {
          "output_type": "stream",
          "name": "stdout",
          "text": [
            "Valor final de x após 334 iterações é 19.999976032549952 m\n",
            "Valor final de y após 334 iterações é 40.000047934900095 m\n",
            "O custo final após 334 iterações é 800.00 R$\n"
          ]
        }
      ]
    },
    {
      "cell_type": "code",
      "source": [
        "# calculo pontos da funcao custo\n",
        "fx = list(map(lambda x: 80*x - 2*x*x, pointsx))\n",
        "\n",
        "plt.plot(pointsx, fx)\n",
        "plt.xlabel(\"Metragem lado x (m)\")\n",
        "plt.ylabel(\"Custo (R$)\")\n",
        "plt.title(\"Função custo\")\n",
        "plt.show()"
      ],
      "metadata": {
        "colab": {
          "base_uri": "https://localhost:8080/",
          "height": 295
        },
        "id": "D5AsQ6PWjOIt",
        "outputId": "00fa0bda-f3d3-49b9-9d06-a02e34007f3a"
      },
      "execution_count": null,
      "outputs": [
        {
          "output_type": "display_data",
          "data": {
            "text/plain": [
              "<Figure size 432x288 with 1 Axes>"
            ],
            "image/png": "[encoded data removed]"
          },
          "metadata": {}
        }
      ]
    },
    {
      "cell_type": "markdown",
      "source": [
        "**Questão 02 e 03**"
      ],
      "metadata": {
        "id": "UEWT2-SXrWHX"
      }
    },
    {
      "cell_type": "markdown",
      "source": [
        "Para a modelagem do problema, tem-se as funções do problema definidas como: \n",
        "\\begin{equation}\n",
        "\\begin{cases}\n",
        "Vol_{cilindro} = πr^2h = 375\\pi cm^3\\\\\n",
        "A_{base} = \\pi r^2\\\\\n",
        "A_{lateral} = 2\\pi rh\\\\\n",
        "f(r) = 0.15A_{base}+0.05A_{lateral} = 0.15\\cdot \\pi r^2 + 0.1\\cdot \\pi rh\n",
        "\\end{cases}\n",
        "\\end{equation}\n",
        "\n",
        "Onde $f(r)$ é a função custo definidora do problema, $h$ a altura do cilindro e $r$ o raio da base. Fazendo a substituição do valor de $h$ proveniente do rearranjo da equação do volume do cilindro, tem-se:\n",
        "\n",
        "\\begin{equation}\n",
        "πr^2h = 375 \\pi cm^3\\\\\n",
        "h=\\frac{375}{r^2}\n",
        "\\end{equation}\n",
        "\n",
        "\\begin{equation}\n",
        "f(r) = 0.15\\cdot \\pi r^2 + 0.1\\cdot \\pi rh\\\\\n",
        "f(r) = 0.15\\cdot \\pi r^2 + 0.1\\cdot \\pi r\\frac{375}{r^2}\\\\\n",
        "f(r) = 0.15\\cdot \\pi r^2 + 0.1\\cdot \\pi \\frac{375}{r}\n",
        "\\end{equation}\n",
        "\n",
        "A primeira derivada da função custo será: $f'(r)=0.3\\pi r - \\dfrac{37.5\\pi}{r^2}$.\n",
        "O método gradiente será: \n",
        "\\begin{equation}\n",
        "x_{k+1}=x_k-\\alpha_k(0.3\\pi x - \\dfrac{37.5\\pi}{x^2})\n",
        "\\end{equation}"
      ],
      "metadata": {
        "id": "evcGWe0f52JO"
      }
    },
    {
      "cell_type": "code",
      "source": [
        "x_k_q02 = lambda x, alpha: x - alpha * (0.3*pi*x-((37.5*pi)/(x**2)))"
      ],
      "metadata": {
        "id": "_P1joMNdCIL4"
      },
      "execution_count": null,
      "outputs": []
    },
    {
      "cell_type": "code",
      "source": [
        "i, r, h, [pointsx, _] = calculateGrad(0.01, x_k_q02, 1, lambda x: (375/(pi*x**2)))\n",
        "print('Valor final do raio após {} iterações é {} cm'.format(i, r))\n",
        "print('Valor final da altura após {} iterações é {} cm'.format(i, h))\n",
        "print('O custo final após {} iterações é {:.2f} R$'.format(i, 0.15*pi*(r**2)+37.5/r))"
      ],
      "metadata": {
        "colab": {
          "base_uri": "https://localhost:8080/"
        },
        "id": "2O3B_DvEClf5",
        "outputId": "d65fb536-00a5-4d98-b28b-2d19a474f5fc"
      },
      "execution_count": null,
      "outputs": [
        {
          "output_type": "stream",
          "name": "stdout",
          "text": [
            "Valor final do raio após 374 iterações é 4.999966287676601 cm\n",
            "Valor final da altura após 374 iterações é 4.774712679202989 cm\n",
            "O custo final após 374 iterações é 19.28 R$\n"
          ]
        }
      ]
    },
    {
      "cell_type": "code",
      "source": [
        "# calculo pontos da funcao custo\n",
        "fx = list(map(lambda x: 0.15*pi*(x**2)+37.5*pi/x, pointsx))\n",
        "plt.plot(pointsx, fx)\n",
        "plt.xlabel(\"Metragem em r (cm)\")\n",
        "plt.ylabel(\"Custo (R$)\")\n",
        "plt.title(\"Função custo\")\n",
        "plt.show()"
      ],
      "metadata": {
        "colab": {
          "base_uri": "https://localhost:8080/",
          "height": 295
        },
        "id": "zMU2onTKZCPV",
        "outputId": "6b284c97-8d6d-4400-8d04-d55dce0e5067"
      },
      "execution_count": null,
      "outputs": [
        {
          "output_type": "display_data",
          "data": {
            "text/plain": [
              "<Figure size 432x288 with 1 Axes>"
            ],
            "image/png": "[encoded data removed]"
          },
          "metadata": {}
        }
      ]
    },
    {
      "cell_type": "markdown",
      "source": [
        "**Questão 04**"
      ],
      "metadata": {
        "id": "wDjKe6pvrdQ3"
      }
    },
    {
      "cell_type": "markdown",
      "source": [
        "Para analisar a influencia de alfa na convergencia, é possível analisar uma sequencia de valores de forma crescente:"
      ],
      "metadata": {
        "id": "wIHaV54uuiDW"
      }
    },
    {
      "cell_type": "code",
      "source": [
        "alphas = [0.00001, 0.0001, 0.001, 0.005, 0.01, 0.05, 0.1, 0.2, 0.3, 0.4, 0.45, 0.46, 0.47, 0.48, 0.49, 0.5]\n",
        "\n",
        "# Para a primeira questao\n",
        "for alpha in alphas:\n",
        "  i, x, _, _ = calculateGrad(alpha, x_k_q01, 0)\n",
        "  print('Qtd iterações: {}; resultado {}'.format(i,x))\n",
        "\n",
        "  "
      ],
      "metadata": {
        "colab": {
          "base_uri": "https://localhost:8080/"
        },
        "id": "LUYhHKaCwwvQ",
        "outputId": "e7ee8ded-a5cc-4b43-a0af-f74a8bbbfa3c"
      },
      "execution_count": null,
      "outputs": [
        {
          "output_type": "stream",
          "name": "stdout",
          "text": [
            "Qtd iterações: 167113; resultado 19.975001049135397\n",
            "Qtd iterações: 22465; resultado 19.997501501695663\n",
            "Qtd iterações: 2818; resultado 19.99975120269392\n",
            "Qtd iterações: 640; resultado 19.99995150260194\n",
            "Qtd iterações: 334; resultado 19.999976032549952\n",
            "Qtd iterações: 70; resultado 19.999996708990885\n",
            "Qtd iterações: 33; resultado 19.999999044960667\n",
            "Qtd iterações: 12; resultado 19.99999991808\n",
            "Qtd iterações: 2; resultado 19.2\n",
            "Qtd iterações: 2; resultado 12.799999999999997\n",
            "Qtd iterações: 2; resultado 7.199999999999999\n",
            "Qtd iterações: 2; resultado 5.887999999999995\n",
            "Qtd iterações: 2; resultado 4.512000000000008\n",
            "Qtd iterações: 2; resultado 3.0720000000000027\n",
            "Qtd iterações: 2; resultado 1.5679999999999978\n",
            "Qtd iterações: 2; resultado 0.0\n"
          ]
        }
      ]
    },
    {
      "cell_type": "code",
      "source": [
        "# Para a segunda questao\n",
        "for alpha in alphas:\n",
        "  i, x, _, _ = calculateGrad(alpha, x_k_q02, 1)\n",
        "  print('Qtd iterações: {}; resultado {}'.format(i,x))"
      ],
      "metadata": {
        "colab": {
          "base_uri": "https://localhost:8080/"
        },
        "id": "MUxZFg3ocynM",
        "outputId": "be42a810-c446-4dc5-8189-42aed639a1be"
      },
      "execution_count": null,
      "outputs": [
        {
          "output_type": "stream",
          "name": "stdout",
          "text": [
            "Qtd iterações: 136477; resultado 4.964883039847194\n",
            "Qtd iterações: 21744; resultado 4.996467665686459\n",
            "Qtd iterações: 2984; resultado 4.999647623072839\n",
            "Qtd iterações: 706; resultado 4.999930652877443\n",
            "Qtd iterações: 374; resultado 4.999966287676601\n",
            "Qtd iterações: 2; resultado 6.646656623245073\n",
            "Qtd iterações: 2; resultado 11.564224157815065\n",
            "Qtd iterações: 2; resultado 19.818824610417945\n",
            "Qtd iterações: 2; resultado 25.891579846211474\n",
            "Qtd iterações: 2; resultado 29.76741243953759\n",
            "Qtd iterações: 2; resultado 30.88028661082893\n",
            "Qtd iterações: 2; resultado 31.036830119914015\n",
            "Qtd iterações: 2; resultado 31.171360530382767\n",
            "Qtd iterações: 2; resultado 31.283876886488137\n",
            "Qtd iterações: 2; resultado 31.37437830774552\n",
            "Qtd iterações: 2; resultado 31.442863981669866\n"
          ]
        }
      ]
    },
    {
      "cell_type": "markdown",
      "source": [
        "Observa-se que quanto menor o valor de alpha, mais passos são necessários para se chegar a uma convergência com uma diff=0.000001 mínima (constante) entre $x_{k+1}$ e $x_k$. Com valores muito baixos a convergência não é muito precisa e com valores tendendo a 0,5, percebe-se que o problema não irá convergir ($x_{k+1}$ tenderá a valores incoerentes com quantidade de iterações inconclusiva)"
      ],
      "metadata": {
        "id": "lLDdlG1C4gEQ"
      }
    }
  ]
}