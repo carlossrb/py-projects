{
 "cells": [
  {
   "cell_type": "markdown",
   "source": [
    "<h1>Para começar, importa-se as libs necessárias para os procedimentos de data cleaning juntamente com os dataframes separadamente, um por um</h1>"
   ],
   "metadata": {}
  },
  {
   "cell_type": "code",
   "execution_count": 19,
   "source": [
    "import pandas as pd\n",
    "from os.path import abspath\n",
    "import os\n",
    "\n",
    "# Remove o arquivo final caso ele exista no diretório dos databases\n",
    "try:\n",
    "    pd.read_csv(abspath('./data/dataBase.gen.csv'))\n",
    "except:\n",
    "    print(\"Não existe o arquivo dataBase.gen.csv\")\n",
    "else:\n",
    "    os.remove(abspath('./data/dataBase.gen.csv'))\n",
    "\n",
    "customer = pd.read_csv(abspath('./data/olist_customers_dataset.csv'))\n",
    "geo_location = pd.read_csv(abspath('./data/olist_geolocation_dataset.csv'))\n",
    "items = pd.read_csv(abspath('./data/olist_order_items_dataset.csv'))\n",
    "payments = pd.read_csv(abspath('./data/olist_order_payments_dataset.csv'))\n",
    "reviews = pd.read_csv(abspath('./data/olist_order_reviews_dataset.csv'))\n",
    "orders = pd.read_csv(abspath('./data/olist_orders_dataset.csv'))\n",
    "products = pd.read_csv(abspath('./data/olist_products_dataset.csv'))\n",
    "sellers = pd.read_csv(abspath('./data/olist_sellers_dataset.csv'))\n",
    "translation = pd.read_csv(\n",
    "    abspath('./data/product_category_name_translation.csv'))\n"
   ],
   "outputs": [],
   "metadata": {}
  },
  {
   "cell_type": "markdown",
   "source": [
    "<h2>Cria-se função para obter demais informações dos dados</h2>\n"
   ],
   "metadata": {}
  },
  {
   "cell_type": "code",
   "execution_count": 20,
   "source": [
    "def dfOverview(dataframe):\n",
    "    \"\"\"This function will return the overview of the dataframe\"\"\"\n",
    "\n",
    "    print(\"O tamanho do dataframe é (linha, coluna): {}\".format(dataframe.shape))\n",
    "    print(\"**\"*30)\n",
    "    print(\"Informações: \", dataframe.info())\n",
    "    print(\"**\"*30)\n",
    "    print(\"Número total de valores nulos: \\n \", dataframe.isnull().sum())\n",
    "    print(\"**\"*30)\n",
    "\n",
    "    return dataframe.head(3)\n"
   ],
   "outputs": [],
   "metadata": {}
  },
  {
   "cell_type": "markdown",
   "source": [
    "<h2>Por exemplo, pode-se analisar os dados da base de reviews:</h2>"
   ],
   "metadata": {}
  },
  {
   "cell_type": "code",
   "execution_count": 21,
   "source": [
    "dfOverview(reviews)"
   ],
   "outputs": [
    {
     "output_type": "stream",
     "name": "stdout",
     "text": [
      "O tamanho do dataframe é (linha, coluna): (100000, 7)\n",
      "************************************************************\n",
      "<class 'pandas.core.frame.DataFrame'>\n",
      "RangeIndex: 100000 entries, 0 to 99999\n",
      "Data columns (total 7 columns):\n",
      " #   Column                   Non-Null Count   Dtype \n",
      "---  ------                   --------------   ----- \n",
      " 0   review_id                100000 non-null  object\n",
      " 1   order_id                 100000 non-null  object\n",
      " 2   review_score             100000 non-null  int64 \n",
      " 3   review_comment_title     11715 non-null   object\n",
      " 4   review_comment_message   41753 non-null   object\n",
      " 5   review_creation_date     100000 non-null  object\n",
      " 6   review_answer_timestamp  100000 non-null  object\n",
      "dtypes: int64(1), object(6)\n",
      "memory usage: 5.3+ MB\n",
      "Informações:  None\n",
      "************************************************************\n",
      "Número total de valores nulos: \n",
      "  review_id                      0\n",
      "order_id                       0\n",
      "review_score                   0\n",
      "review_comment_title       88285\n",
      "review_comment_message     58247\n",
      "review_creation_date           0\n",
      "review_answer_timestamp        0\n",
      "dtype: int64\n",
      "************************************************************\n"
     ]
    },
    {
     "output_type": "execute_result",
     "data": {
      "text/html": [
       "<div>\n",
       "<style scoped>\n",
       "    .dataframe tbody tr th:only-of-type {\n",
       "        vertical-align: middle;\n",
       "    }\n",
       "\n",
       "    .dataframe tbody tr th {\n",
       "        vertical-align: top;\n",
       "    }\n",
       "\n",
       "    .dataframe thead th {\n",
       "        text-align: right;\n",
       "    }\n",
       "</style>\n",
       "<table border=\"1\" class=\"dataframe\">\n",
       "  <thead>\n",
       "    <tr style=\"text-align: right;\">\n",
       "      <th></th>\n",
       "      <th>review_id</th>\n",
       "      <th>order_id</th>\n",
       "      <th>review_score</th>\n",
       "      <th>review_comment_title</th>\n",
       "      <th>review_comment_message</th>\n",
       "      <th>review_creation_date</th>\n",
       "      <th>review_answer_timestamp</th>\n",
       "    </tr>\n",
       "  </thead>\n",
       "  <tbody>\n",
       "    <tr>\n",
       "      <th>0</th>\n",
       "      <td>7bc2406110b926393aa56f80a40eba40</td>\n",
       "      <td>73fc7af87114b39712e6da79b0a377eb</td>\n",
       "      <td>4</td>\n",
       "      <td>NaN</td>\n",
       "      <td>NaN</td>\n",
       "      <td>2018-01-18 00:00:00</td>\n",
       "      <td>2018-01-18 21:46:59</td>\n",
       "    </tr>\n",
       "    <tr>\n",
       "      <th>1</th>\n",
       "      <td>80e641a11e56f04c1ad469d5645fdfde</td>\n",
       "      <td>a548910a1c6147796b98fdf73dbeba33</td>\n",
       "      <td>5</td>\n",
       "      <td>NaN</td>\n",
       "      <td>NaN</td>\n",
       "      <td>2018-03-10 00:00:00</td>\n",
       "      <td>2018-03-11 03:05:13</td>\n",
       "    </tr>\n",
       "    <tr>\n",
       "      <th>2</th>\n",
       "      <td>228ce5500dc1d8e020d8d1322874b6f0</td>\n",
       "      <td>f9e4b658b201a9f2ecdecbb34bed034b</td>\n",
       "      <td>5</td>\n",
       "      <td>NaN</td>\n",
       "      <td>NaN</td>\n",
       "      <td>2018-02-17 00:00:00</td>\n",
       "      <td>2018-02-18 14:36:24</td>\n",
       "    </tr>\n",
       "  </tbody>\n",
       "</table>\n",
       "</div>"
      ],
      "text/plain": [
       "                          review_id                          order_id  \\\n",
       "0  7bc2406110b926393aa56f80a40eba40  73fc7af87114b39712e6da79b0a377eb   \n",
       "1  80e641a11e56f04c1ad469d5645fdfde  a548910a1c6147796b98fdf73dbeba33   \n",
       "2  228ce5500dc1d8e020d8d1322874b6f0  f9e4b658b201a9f2ecdecbb34bed034b   \n",
       "\n",
       "   review_score review_comment_title review_comment_message  \\\n",
       "0             4                  NaN                    NaN   \n",
       "1             5                  NaN                    NaN   \n",
       "2             5                  NaN                    NaN   \n",
       "\n",
       "  review_creation_date review_answer_timestamp  \n",
       "0  2018-01-18 00:00:00     2018-01-18 21:46:59  \n",
       "1  2018-03-10 00:00:00     2018-03-11 03:05:13  \n",
       "2  2018-02-17 00:00:00     2018-02-18 14:36:24  "
      ]
     },
     "metadata": {},
     "execution_count": 21
    }
   ],
   "metadata": {}
  },
  {
   "cell_type": "markdown",
   "source": [
    "<h2><strong>Observações<strong></h2>\n",
    "\n",
    "\n",
    "<ul>\n",
    "<li>Valores nulos se fazem presentes nos seguintes dataframes: reviews, orders e product;</li>\n",
    "\n",
    "<li>Em geo_location temos um dataframe com 1000163 pontos o que, em relação aos outros dataframes, aparenta ser bastante grande. Isso nos leva a conclusão de que possamos ter dados duplicados nesse dataframe;</li>\n",
    "\n",
    "<li>Precisaremos mesclar todas as tabelas de acordo com esquema a nós fornecido.</li>\n",
    "</ul>"
   ],
   "metadata": {}
  },
  {
   "cell_type": "markdown",
   "source": [
    "<h2>Padronizando nomes das colunas de coordenadas geográficas em 3 diferentes dataframes</h2>"
   ],
   "metadata": {}
  },
  {
   "cell_type": "code",
   "execution_count": 22,
   "source": [
    "customer.rename(\n",
    "    columns={\"customer_zip_code_prefix\": \"zip_code_prefix\"}, inplace=True)\n",
    "geo_location.rename(\n",
    "    columns={\"geolocation_zip_code_prefix\": \"zip_code_prefix\"}, inplace=True)\n",
    "sellers.rename(\n",
    "    columns={\"seller_zip_code_prefix\": \"zip_code_prefix\"}, inplace=True)\n"
   ],
   "outputs": [],
   "metadata": {}
  },
  {
   "cell_type": "markdown",
   "source": [
    "<h2>Removendo valores duplicados em geo_location df</h2>"
   ],
   "metadata": {}
  },
  {
   "cell_type": "code",
   "execution_count": 23,
   "source": [
    "print(\"Número de linhas antes da remoção: \", geo_location.shape[0])\n",
    "geo_location.drop_duplicates(\n",
    "    subset=\"zip_code_prefix\", keep=\"first\", inplace=True)\n",
    "print(\"Número de linhas após remoção: \",\n",
    "      geo_location.shape[0])\n"
   ],
   "outputs": [
    {
     "output_type": "stream",
     "name": "stdout",
     "text": [
      "Número de linhas antes da remoção:  1000163\n",
      "Número de linhas após remoção:  19015\n"
     ]
    }
   ],
   "metadata": {}
  },
  {
   "cell_type": "markdown",
   "source": [
    "<h2>Realizando o merge dos dataframs (merge é uma espécie de union que se realiza em banco de dados)</h2>"
   ],
   "metadata": {}
  },
  {
   "cell_type": "code",
   "execution_count": 24,
   "source": [
    "# customer com geo_location (em left join para priorizar infos de customer)\n",
    "geo_customer = pd.merge(customer, geo_location,\n",
    "                        how=\"left\", on=\"zip_code_prefix\")\n",
    "\n",
    "# sellers com geo_location (em left join para priorizar infos de sellers)\n",
    "geo_seller = pd.merge(sellers, geo_location, how=\"left\", on=\"zip_code_prefix\")\n",
    "\n",
    "# payment com order\n",
    "payment_order = pd.merge(payments, orders, on=\"order_id\")\n",
    "\n",
    "# product com item\n",
    "product_item = pd.merge(products, items, on=\"product_id\")\n",
    "\n",
    "# payment_order com reviews\n",
    "pay_order_review = pd.merge(payment_order, reviews, on=\"order_id\")\n",
    "\n",
    "# pay_order_review com geo_customer\n",
    "review_customer = pd.merge(pay_order_review, geo_customer, on=\"customer_id\")\n",
    "\n",
    "# prod_item com geo_seller\n",
    "prod_item_seller = pd.merge(product_item, geo_seller, on=\"seller_id\")\n",
    "\n",
    "# Finalmente, criando a database geral com review_customer com prod_item_seller\n",
    "dataBase = pd.merge(review_customer, prod_item_seller,\n",
    "                    on=\"order_id\", suffixes=(\"_customer\", \"_seller\"))\n",
    "\n",
    "print(\"O tamanho da database é: \", dataBase.shape)\n",
    "print(\"Todas as colunas nesse db são: \\n\", dataBase.columns)\n",
    "num_tot_rows = dataBase.shape[0]"
   ],
   "outputs": [
    {
     "output_type": "stream",
     "name": "stdout",
     "text": [
      "O tamanho da database é:  (118315, 47)\n",
      "Todas as colunas nesse db são: \n",
      " Index(['order_id', 'payment_sequential', 'payment_type',\n",
      "       'payment_installments', 'payment_value', 'customer_id', 'order_status',\n",
      "       'order_purchase_timestamp', 'order_approved_at',\n",
      "       'order_delivered_carrier_date', 'order_delivered_customer_date',\n",
      "       'order_estimated_delivery_date', 'review_id', 'review_score',\n",
      "       'review_comment_title', 'review_comment_message',\n",
      "       'review_creation_date', 'review_answer_timestamp', 'customer_unique_id',\n",
      "       'zip_code_prefix_customer', 'customer_city', 'customer_state',\n",
      "       'geolocation_lat_customer', 'geolocation_lng_customer',\n",
      "       'geolocation_city_customer', 'geolocation_state_customer', 'product_id',\n",
      "       'product_category_name', 'product_name_lenght',\n",
      "       'product_description_lenght', 'product_photos_qty', 'product_weight_g',\n",
      "       'product_length_cm', 'product_height_cm', 'product_width_cm',\n",
      "       'order_item_id', 'seller_id', 'shipping_limit_date', 'price',\n",
      "       'freight_value', 'zip_code_prefix_seller', 'seller_city',\n",
      "       'seller_state', 'geolocation_lat_seller', 'geolocation_lng_seller',\n",
      "       'geolocation_city_seller', 'geolocation_state_seller'],\n",
      "      dtype='object')\n"
     ]
    }
   ],
   "metadata": {}
  },
  {
   "cell_type": "markdown",
   "source": [
    "<h2>Não necessitaremos de algumas informações dessas colunas, como por ex: review_id, review_comment_title, review_comment_message, review_creation_date, review_answer_timestamp</h2>"
   ],
   "metadata": {}
  },
  {
   "cell_type": "code",
   "execution_count": 25,
   "source": [
    "dataBase.drop(['review_id', 'review_comment_title', 'review_comment_message',\n",
    "               'review_creation_date', 'review_answer_timestamp'], axis=1, inplace=True)\n",
    "\n",
    "dataBase.isnull().sum()\n"
   ],
   "outputs": [
    {
     "output_type": "execute_result",
     "data": {
      "text/plain": [
       "order_id                            0\n",
       "payment_sequential                  0\n",
       "payment_type                        0\n",
       "payment_installments                0\n",
       "payment_value                       0\n",
       "customer_id                         0\n",
       "order_status                        0\n",
       "order_purchase_timestamp            0\n",
       "order_approved_at                  15\n",
       "order_delivered_carrier_date     1254\n",
       "order_delivered_customer_date    2588\n",
       "order_estimated_delivery_date       0\n",
       "review_score                        0\n",
       "customer_unique_id                  0\n",
       "zip_code_prefix_customer            0\n",
       "customer_city                       0\n",
       "customer_state                      0\n",
       "geolocation_lat_customer          317\n",
       "geolocation_lng_customer          317\n",
       "geolocation_city_customer         317\n",
       "geolocation_state_customer        317\n",
       "product_id                          0\n",
       "product_category_name            1709\n",
       "product_name_lenght              1709\n",
       "product_description_lenght       1709\n",
       "product_photos_qty               1709\n",
       "product_weight_g                   20\n",
       "product_length_cm                  20\n",
       "product_height_cm                  20\n",
       "product_width_cm                   20\n",
       "order_item_id                       0\n",
       "seller_id                           0\n",
       "shipping_limit_date                 0\n",
       "price                               0\n",
       "freight_value                       0\n",
       "zip_code_prefix_seller              0\n",
       "seller_city                         0\n",
       "seller_state                        0\n",
       "geolocation_lat_seller            265\n",
       "geolocation_lng_seller            265\n",
       "geolocation_city_seller           265\n",
       "geolocation_state_seller          265\n",
       "dtype: int64"
      ]
     },
     "metadata": {},
     "execution_count": 25
    }
   ],
   "metadata": {}
  },
  {
   "cell_type": "markdown",
   "source": [
    "<h2>Obtendo os status de entrega do pedido</h2>"
   ],
   "metadata": {}
  },
  {
   "cell_type": "code",
   "execution_count": 26,
   "source": [
    "dataBase[\"order_status\"].value_counts()"
   ],
   "outputs": [
    {
     "output_type": "execute_result",
     "data": {
      "text/plain": [
       "delivered      115728\n",
       "shipped          1255\n",
       "canceled          570\n",
       "invoiced          376\n",
       "processing        376\n",
       "unavailable         7\n",
       "approved            3\n",
       "Name: order_status, dtype: int64"
      ]
     },
     "metadata": {},
     "execution_count": 26
    }
   ],
   "metadata": {}
  },
  {
   "cell_type": "markdown",
   "source": [
    "<h2>Apenas os produtos entregues nos interessa, então temos:</h2>"
   ],
   "metadata": {}
  },
  {
   "cell_type": "code",
   "execution_count": 27,
   "source": [
    "not_delivered = dataBase[dataBase[\"order_status\"] != \"delivered\"]\n",
    "not_delivered = not_delivered[\"order_status\"].value_counts().sum()\n",
    "\n",
    "print(\"Total de pedidos não entregues: {} | o que corresponde a {}% dos pedidos\".format(\n",
    "    not_delivered, (not_delivered*100/dataBase.shape[0]).round(3)))\n",
    "\n",
    "delivered = dataBase[dataBase[\"order_status\"]==\"delivered\"][\"order_status\"].value_counts().sum() \n",
    "print((delivered*100/dataBase.shape[0]).round(3))\n",
    "\n",
    "dataBase = dataBase[dataBase[\"order_status\"]==\"delivered\"]"
   ],
   "outputs": [
    {
     "output_type": "stream",
     "name": "stdout",
     "text": [
      "Total de pedidos não entregues: 2587 | o que corresponde a 2.187% dos pedidos\n",
      "97.813\n"
     ]
    }
   ],
   "metadata": {}
  },
  {
   "cell_type": "code",
   "execution_count": 28,
   "source": [
    "# excluindo linhas nulas nas colunas de datas\n",
    "dataBase.dropna(subset=[\"order_approved_at\", \"order_delivered_carrier_date\",\n",
    "                \"order_delivered_customer_date\"], axis=0, inplace=True)\n",
    "dataBase.isnull().sum()"
   ],
   "outputs": [
    {
     "output_type": "execute_result",
     "data": {
      "text/plain": [
       "order_id                            0\n",
       "payment_sequential                  0\n",
       "payment_type                        0\n",
       "payment_installments                0\n",
       "payment_value                       0\n",
       "customer_id                         0\n",
       "order_status                        0\n",
       "order_purchase_timestamp            0\n",
       "order_approved_at                   0\n",
       "order_delivered_carrier_date        0\n",
       "order_delivered_customer_date       0\n",
       "order_estimated_delivery_date       0\n",
       "review_score                        0\n",
       "customer_unique_id                  0\n",
       "zip_code_prefix_customer            0\n",
       "customer_city                       0\n",
       "customer_state                      0\n",
       "geolocation_lat_customer          303\n",
       "geolocation_lng_customer          303\n",
       "geolocation_city_customer         303\n",
       "geolocation_state_customer        303\n",
       "product_id                          0\n",
       "product_category_name            1637\n",
       "product_name_lenght              1637\n",
       "product_description_lenght       1637\n",
       "product_photos_qty               1637\n",
       "product_weight_g                   20\n",
       "product_length_cm                  20\n",
       "product_height_cm                  20\n",
       "product_width_cm                   20\n",
       "order_item_id                       0\n",
       "seller_id                           0\n",
       "shipping_limit_date                 0\n",
       "price                               0\n",
       "freight_value                       0\n",
       "zip_code_prefix_seller              0\n",
       "seller_city                         0\n",
       "seller_state                        0\n",
       "geolocation_lat_seller            261\n",
       "geolocation_lng_seller            261\n",
       "geolocation_city_seller           261\n",
       "geolocation_state_seller          261\n",
       "dtype: int64"
      ]
     },
     "metadata": {},
     "execution_count": 28
    }
   ],
   "metadata": {}
  },
  {
   "cell_type": "code",
   "execution_count": 29,
   "source": [
    "# excluindo linhas nulas nas colunas de geo_location mandantes\n",
    "dataBase.dropna(subset=[\"geolocation_lng_seller\",\n",
    "                \"geolocation_state_customer\"], axis=0, inplace=True)\n",
    "dataBase.isnull().sum()"
   ],
   "outputs": [
    {
     "output_type": "execute_result",
     "data": {
      "text/plain": [
       "order_id                            0\n",
       "payment_sequential                  0\n",
       "payment_type                        0\n",
       "payment_installments                0\n",
       "payment_value                       0\n",
       "customer_id                         0\n",
       "order_status                        0\n",
       "order_purchase_timestamp            0\n",
       "order_approved_at                   0\n",
       "order_delivered_carrier_date        0\n",
       "order_delivered_customer_date       0\n",
       "order_estimated_delivery_date       0\n",
       "review_score                        0\n",
       "customer_unique_id                  0\n",
       "zip_code_prefix_customer            0\n",
       "customer_city                       0\n",
       "customer_state                      0\n",
       "geolocation_lat_customer            0\n",
       "geolocation_lng_customer            0\n",
       "geolocation_city_customer           0\n",
       "geolocation_state_customer          0\n",
       "product_id                          0\n",
       "product_category_name            1631\n",
       "product_name_lenght              1631\n",
       "product_description_lenght       1631\n",
       "product_photos_qty               1631\n",
       "product_weight_g                   20\n",
       "product_length_cm                  20\n",
       "product_height_cm                  20\n",
       "product_width_cm                   20\n",
       "order_item_id                       0\n",
       "seller_id                           0\n",
       "shipping_limit_date                 0\n",
       "price                               0\n",
       "freight_value                       0\n",
       "zip_code_prefix_seller              0\n",
       "seller_city                         0\n",
       "seller_state                        0\n",
       "geolocation_lat_seller              0\n",
       "geolocation_lng_seller              0\n",
       "geolocation_city_seller             0\n",
       "geolocation_state_seller            0\n",
       "dtype: int64"
      ]
     },
     "metadata": {},
     "execution_count": 29
    }
   ],
   "metadata": {}
  },
  {
   "cell_type": "code",
   "execution_count": 30,
   "source": [
    "# exluindo outras linhas\n",
    "dataBase.dropna(subset=[\"product_width_cm\",\n",
    "                \"product_photos_qty\"], axis=0, inplace=True)\n",
    "\n",
    "dataBase.isnull().sum()\n",
    "dataBase.info()"
   ],
   "outputs": [
    {
     "output_type": "stream",
     "name": "stdout",
     "text": [
      "<class 'pandas.core.frame.DataFrame'>\n",
      "Int64Index: 113509 entries, 0 to 118314\n",
      "Data columns (total 42 columns):\n",
      " #   Column                         Non-Null Count   Dtype  \n",
      "---  ------                         --------------   -----  \n",
      " 0   order_id                       113509 non-null  object \n",
      " 1   payment_sequential             113509 non-null  int64  \n",
      " 2   payment_type                   113509 non-null  object \n",
      " 3   payment_installments           113509 non-null  int64  \n",
      " 4   payment_value                  113509 non-null  float64\n",
      " 5   customer_id                    113509 non-null  object \n",
      " 6   order_status                   113509 non-null  object \n",
      " 7   order_purchase_timestamp       113509 non-null  object \n",
      " 8   order_approved_at              113509 non-null  object \n",
      " 9   order_delivered_carrier_date   113509 non-null  object \n",
      " 10  order_delivered_customer_date  113509 non-null  object \n",
      " 11  order_estimated_delivery_date  113509 non-null  object \n",
      " 12  review_score                   113509 non-null  int64  \n",
      " 13  customer_unique_id             113509 non-null  object \n",
      " 14  zip_code_prefix_customer       113509 non-null  int64  \n",
      " 15  customer_city                  113509 non-null  object \n",
      " 16  customer_state                 113509 non-null  object \n",
      " 17  geolocation_lat_customer       113509 non-null  float64\n",
      " 18  geolocation_lng_customer       113509 non-null  float64\n",
      " 19  geolocation_city_customer      113509 non-null  object \n",
      " 20  geolocation_state_customer     113509 non-null  object \n",
      " 21  product_id                     113509 non-null  object \n",
      " 22  product_category_name          113509 non-null  object \n",
      " 23  product_name_lenght            113509 non-null  float64\n",
      " 24  product_description_lenght     113509 non-null  float64\n",
      " 25  product_photos_qty             113509 non-null  float64\n",
      " 26  product_weight_g               113509 non-null  float64\n",
      " 27  product_length_cm              113509 non-null  float64\n",
      " 28  product_height_cm              113509 non-null  float64\n",
      " 29  product_width_cm               113509 non-null  float64\n",
      " 30  order_item_id                  113509 non-null  int64  \n",
      " 31  seller_id                      113509 non-null  object \n",
      " 32  shipping_limit_date            113509 non-null  object \n",
      " 33  price                          113509 non-null  float64\n",
      " 34  freight_value                  113509 non-null  float64\n",
      " 35  zip_code_prefix_seller         113509 non-null  int64  \n",
      " 36  seller_city                    113509 non-null  object \n",
      " 37  seller_state                   113509 non-null  object \n",
      " 38  geolocation_lat_seller         113509 non-null  float64\n",
      " 39  geolocation_lng_seller         113509 non-null  float64\n",
      " 40  geolocation_city_seller        113509 non-null  object \n",
      " 41  geolocation_state_seller       113509 non-null  object \n",
      "dtypes: float64(14), int64(6), object(22)\n",
      "memory usage: 37.2+ MB\n"
     ]
    }
   ],
   "metadata": {}
  },
  {
   "cell_type": "markdown",
   "source": [
    "<h2>A quantidade total de dados retirado foi:</h2>"
   ],
   "metadata": {}
  },
  {
   "cell_type": "code",
   "execution_count": 31,
   "source": [
    "print(round((num_tot_rows - dataBase.shape[0])*100/num_tot_rows, 3), \"%\")\n"
   ],
   "outputs": [
    {
     "output_type": "stream",
     "name": "stdout",
     "text": [
      "4.062 %\n"
     ]
    }
   ],
   "metadata": {}
  },
  {
   "cell_type": "markdown",
   "source": [
    "<h2>O total de <strong>4,056%</strong> dos dados é relativamente pouco, já que ainda nos resta cerca de 96% dos dados sem valores nulos</h2>\n",
    "\n",
    "<h2>Removendo as linhas duplicadas:</h2>"
   ],
   "metadata": {}
  },
  {
   "cell_type": "code",
   "execution_count": 32,
   "source": [
    "dataBase.drop_duplicates(keep=\"first\", inplace=True)\n",
    "dataBase[dataBase.duplicated()==True]"
   ],
   "outputs": [
    {
     "output_type": "execute_result",
     "data": {
      "text/html": [
       "<div>\n",
       "<style scoped>\n",
       "    .dataframe tbody tr th:only-of-type {\n",
       "        vertical-align: middle;\n",
       "    }\n",
       "\n",
       "    .dataframe tbody tr th {\n",
       "        vertical-align: top;\n",
       "    }\n",
       "\n",
       "    .dataframe thead th {\n",
       "        text-align: right;\n",
       "    }\n",
       "</style>\n",
       "<table border=\"1\" class=\"dataframe\">\n",
       "  <thead>\n",
       "    <tr style=\"text-align: right;\">\n",
       "      <th></th>\n",
       "      <th>order_id</th>\n",
       "      <th>payment_sequential</th>\n",
       "      <th>payment_type</th>\n",
       "      <th>payment_installments</th>\n",
       "      <th>payment_value</th>\n",
       "      <th>customer_id</th>\n",
       "      <th>order_status</th>\n",
       "      <th>order_purchase_timestamp</th>\n",
       "      <th>order_approved_at</th>\n",
       "      <th>order_delivered_carrier_date</th>\n",
       "      <th>...</th>\n",
       "      <th>shipping_limit_date</th>\n",
       "      <th>price</th>\n",
       "      <th>freight_value</th>\n",
       "      <th>zip_code_prefix_seller</th>\n",
       "      <th>seller_city</th>\n",
       "      <th>seller_state</th>\n",
       "      <th>geolocation_lat_seller</th>\n",
       "      <th>geolocation_lng_seller</th>\n",
       "      <th>geolocation_city_seller</th>\n",
       "      <th>geolocation_state_seller</th>\n",
       "    </tr>\n",
       "  </thead>\n",
       "  <tbody>\n",
       "  </tbody>\n",
       "</table>\n",
       "<p>0 rows × 42 columns</p>\n",
       "</div>"
      ],
      "text/plain": [
       "Empty DataFrame\n",
       "Columns: [order_id, payment_sequential, payment_type, payment_installments, payment_value, customer_id, order_status, order_purchase_timestamp, order_approved_at, order_delivered_carrier_date, order_delivered_customer_date, order_estimated_delivery_date, review_score, customer_unique_id, zip_code_prefix_customer, customer_city, customer_state, geolocation_lat_customer, geolocation_lng_customer, geolocation_city_customer, geolocation_state_customer, product_id, product_category_name, product_name_lenght, product_description_lenght, product_photos_qty, product_weight_g, product_length_cm, product_height_cm, product_width_cm, order_item_id, seller_id, shipping_limit_date, price, freight_value, zip_code_prefix_seller, seller_city, seller_state, geolocation_lat_seller, geolocation_lng_seller, geolocation_city_seller, geolocation_state_seller]\n",
       "Index: []\n",
       "\n",
       "[0 rows x 42 columns]"
      ]
     },
     "metadata": {},
     "execution_count": 32
    }
   ],
   "metadata": {}
  },
  {
   "cell_type": "code",
   "execution_count": 33,
   "source": [
    "dataBase.shape"
   ],
   "outputs": [
    {
     "output_type": "execute_result",
     "data": {
      "text/plain": [
       "(113108, 42)"
      ]
     },
     "metadata": {},
     "execution_count": 33
    }
   ],
   "metadata": {}
  },
  {
   "cell_type": "markdown",
   "source": [
    "<h2>Nas infos de seller e customer, temos os nomes das cidades sem caracteres especiais, além de algumas cidade com seus estados correspondetes errados. Em geolocations essas diferenças são corrigidas, logo, aproveitaremos essas informações de geolocation e excluiremos as colunas de cidade/estado de seller e customer</h2>"
   ],
   "metadata": {}
  },
  {
   "cell_type": "code",
   "execution_count": 34,
   "source": [
    "dataBase[dataBase[\"geolocation_state_seller\"] !=\n",
    "         dataBase[\"seller_state\"]]  # não está igual\n",
    "\n",
    "dataBase.drop([\"seller_state\", \"seller_city\", \"customer_city\",\n",
    "               \"customer_state\"], axis=1, inplace=True)\n",
    "\n",
    "# Renomeio os nomes de algumas colunas\n",
    "dataBase.rename(columns={\"geolocation_state_seller\": \"seller_state\", \"geolocation_city_seller\": \"seller_city\",\n",
    "                         \"geolocation_lng_seller\": \"lng_seller\", \"geolocation_lat_seller\": \"lat_seller\",\n",
    "                         \"geolocation_lng_customer\": \"lng_customer\", \"geolocation_lat_customer\": \"lat_customer\",\n",
    "                         \"geolocation_city_customer\": \"customer_city\", \"geolocation_state_customer\": \"customer_state\"}, inplace=True)\n",
    "\n",
    "print(dataBase.columns)                         \n"
   ],
   "outputs": [
    {
     "output_type": "stream",
     "name": "stdout",
     "text": [
      "Index(['order_id', 'payment_sequential', 'payment_type',\n",
      "       'payment_installments', 'payment_value', 'customer_id', 'order_status',\n",
      "       'order_purchase_timestamp', 'order_approved_at',\n",
      "       'order_delivered_carrier_date', 'order_delivered_customer_date',\n",
      "       'order_estimated_delivery_date', 'review_score', 'customer_unique_id',\n",
      "       'zip_code_prefix_customer', 'lat_customer', 'lng_customer',\n",
      "       'customer_city', 'customer_state', 'product_id',\n",
      "       'product_category_name', 'product_name_lenght',\n",
      "       'product_description_lenght', 'product_photos_qty', 'product_weight_g',\n",
      "       'product_length_cm', 'product_height_cm', 'product_width_cm',\n",
      "       'order_item_id', 'seller_id', 'shipping_limit_date', 'price',\n",
      "       'freight_value', 'zip_code_prefix_seller', 'lat_seller', 'lng_seller',\n",
      "       'seller_city', 'seller_state'],\n",
      "      dtype='object')\n"
     ]
    }
   ],
   "metadata": {}
  },
  {
   "cell_type": "markdown",
   "source": [
    "<h2>Temos 2 linhas com parcela igual a 0, logo, devemos eliminá-la, pois não há condição de termos um produto com número de parcelas igual a 0.</h2>"
   ],
   "metadata": {}
  },
  {
   "cell_type": "code",
   "execution_count": 35,
   "source": [
    "print(dataBase[dataBase[\"payment_installments\"] == 0].values.shape[0])\n",
    "\n",
    "idx = dataBase[dataBase[\"payment_installments\"] == 0].index.values\n",
    "\n",
    "dataBase.drop(dataBase.index[idx], axis=0, inplace=True)"
   ],
   "outputs": [
    {
     "output_type": "stream",
     "name": "stdout",
     "text": [
      "3\n"
     ]
    }
   ],
   "metadata": {}
  },
  {
   "cell_type": "markdown",
   "source": [
    "<h2>Por fim, salvamos os dados em um novo arquivo .csv</h2>"
   ],
   "metadata": {}
  },
  {
   "cell_type": "code",
   "execution_count": 36,
   "source": [
    "dataBase.to_csv(abspath(\"data/dataBase.gen.csv\"), index=False)\n"
   ],
   "outputs": [],
   "metadata": {}
  }
 ],
 "metadata": {
  "orig_nbformat": 4,
  "language_info": {
   "name": "python",
   "version": "3.8.10",
   "mimetype": "text/x-python",
   "codemirror_mode": {
    "name": "ipython",
    "version": 3
   },
   "pygments_lexer": "ipython3",
   "nbconvert_exporter": "python",
   "file_extension": ".py"
  },
  "kernelspec": {
   "name": "python3",
   "display_name": "Python 3.8.10 64-bit ('venv': venv)"
  },
  "interpreter": {
   "hash": "c26f9d25dee46902d7ebb58c3605029a2001933c665052a7d35932b2e3c8fe73"
  }
 },
 "nbformat": 4,
 "nbformat_minor": 2
}