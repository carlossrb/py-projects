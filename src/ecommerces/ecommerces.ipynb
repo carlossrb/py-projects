{
 "cells": [
  {
   "cell_type": "markdown",
   "source": [
    "<h1>Análise dos dados gerados em <strong> dataBase.gen.csv </strong> </h1>\n",
    "\n",
    "<h2>\n",
    "A base de dados escolhida consiste em um conjunto de dados que descrevem a rotina de compra de um ecommerce. Nela podemos visualizar diversas características de um produto, como o nome, preço, descrição, nota atribuída, comentários, local de compra, etc. \n",
    "\n",
    "Por ser tão abrangente, essa análise será limitada ao sistema de avaliação feito pelos clientes após a confirmação de entrega do produto. Assim, o consumidor pode dar nota de 1 a 5 para o produto, sendo 1 o mais baixo e 5 o mais alto. Os comentários serão desconsiderados para essa primeira proposta.\n",
    "\n",
    "Com essas avaliações, a plataforma de e-commerce consegue tirar insights sobre a qualidade do produto. Com essas avaliações, consegue-se trazer melhorias para o negócio. A grande questão que surge é: Seria possível prever a pontuação dos clientes com base em alguma outra métrica antes mesmo dessa avaliação ser efetuada? Caso sim, também seria possível prever os casos sem avaliação. No estudo em questão, o principal objetivo é resolver esse problema, que é a previsão da satisfação do cliente para que o comércio eletrônico possa lançar mão de meios para mitigar eventuais danos em determinados casos. </h2>\n",
    "\n",
    "<!-- Alguns requisitos que devem ser observados são:\n",
    "\n",
    "1) Classificações baixas (1,2 e 3) são essenciais para a melhoria do negocio e devem ser analisada e classificadas corretamente;\n",
    "2) O modelo não deve demorar muito para ser executado e fazer as previsões, já que essa previsão deve ser feita antes que o usuário dê a nota. -->"
   ],
   "metadata": {}
  },
  {
   "cell_type": "code",
   "execution_count": 3,
   "source": [
    "import pandas as pd\n",
    "import numpy as np\n",
    "import matplotlib.pyplot as plt\n",
    "import seaborn as sns\n",
    "from os.path import abspath\n",
    "\n",
    "# lendo dados\n",
    "data = pd.read_csv(abspath('./data/dataBase.gen.csv'))\n",
    "\n",
    "data.info()"
   ],
   "outputs": [
    {
     "output_type": "stream",
     "name": "stdout",
     "text": [
      "<class 'pandas.core.frame.DataFrame'>\n",
      "RangeIndex: 94656 entries, 0 to 94655\n",
      "Data columns (total 38 columns):\n",
      " #   Column                         Non-Null Count  Dtype  \n",
      "---  ------                         --------------  -----  \n",
      " 0   order_id                       94656 non-null  object \n",
      " 1   payment_sequential             94656 non-null  int64  \n",
      " 2   payment_type                   94656 non-null  object \n",
      " 3   payment_installments           94656 non-null  int64  \n",
      " 4   payment_value                  94656 non-null  float64\n",
      " 5   customer_id                    94656 non-null  object \n",
      " 6   order_status                   94656 non-null  object \n",
      " 7   order_purchase_timestamp       94656 non-null  object \n",
      " 8   order_approved_at              94656 non-null  object \n",
      " 9   order_delivered_carrier_date   94656 non-null  object \n",
      " 10  order_delivered_customer_date  94656 non-null  object \n",
      " 11  order_estimated_delivery_date  94656 non-null  object \n",
      " 12  review_score                   94656 non-null  int64  \n",
      " 13  customer_unique_id             94656 non-null  object \n",
      " 14  zip_code_prefix_customer       94656 non-null  int64  \n",
      " 15  lat_customer                   94656 non-null  float64\n",
      " 16  lng_customer                   94656 non-null  float64\n",
      " 17  customer_city                  94656 non-null  object \n",
      " 18  customer_state                 94656 non-null  object \n",
      " 19  product_id                     94656 non-null  object \n",
      " 20  product_category_name          94656 non-null  object \n",
      " 21  product_name_lenght            94656 non-null  float64\n",
      " 22  product_description_lenght     94656 non-null  float64\n",
      " 23  product_photos_qty             94656 non-null  float64\n",
      " 24  product_weight_g               94656 non-null  float64\n",
      " 25  product_length_cm              94656 non-null  float64\n",
      " 26  product_height_cm              94656 non-null  float64\n",
      " 27  product_width_cm               94656 non-null  float64\n",
      " 28  order_item_id                  94656 non-null  int64  \n",
      " 29  seller_id                      94656 non-null  object \n",
      " 30  shipping_limit_date            94656 non-null  object \n",
      " 31  price                          94656 non-null  float64\n",
      " 32  freight_value                  94656 non-null  float64\n",
      " 33  zip_code_prefix_seller         94656 non-null  int64  \n",
      " 34  lat_seller                     94656 non-null  float64\n",
      " 35  lng_seller                     94656 non-null  float64\n",
      " 36  seller_city                    94656 non-null  object \n",
      " 37  seller_state                   94656 non-null  object \n",
      "dtypes: float64(14), int64(6), object(18)\n",
      "memory usage: 27.4+ MB\n"
     ]
    }
   ],
   "metadata": {}
  }
 ],
 "metadata": {
  "orig_nbformat": 4,
  "language_info": {
   "name": "python",
   "version": "3.8.10",
   "mimetype": "text/x-python",
   "codemirror_mode": {
    "name": "ipython",
    "version": 3
   },
   "pygments_lexer": "ipython3",
   "nbconvert_exporter": "python",
   "file_extension": ".py"
  },
  "kernelspec": {
   "name": "python3",
   "display_name": "Python 3.8.10 64-bit ('venv': venv)"
  },
  "interpreter": {
   "hash": "c26f9d25dee46902d7ebb58c3605029a2001933c665052a7d35932b2e3c8fe73"
  }
 },
 "nbformat": 4,
 "nbformat_minor": 2
}